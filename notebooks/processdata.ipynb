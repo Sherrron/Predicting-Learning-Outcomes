{
 "cells": [
  {
   "cell_type": "code",
   "execution_count": 2,
   "id": "31336600-c301-4f23-bfcc-6f3f5d3068a6",
   "metadata": {},
   "outputs": [],
   "source": [
    "import pandas as pd"
   ]
  },
  {
   "cell_type": "markdown",
   "id": "97442881-1e36-4b56-842d-a5f379d0ef25",
   "metadata": {},
   "source": [
    "## DS3093 data retrieval"
   ]
  },
  {
   "cell_type": "code",
   "execution_count": 14,
   "id": "a3a921b8-f24f-4029-b86f-6d3d1cd50673",
   "metadata": {},
   "outputs": [],
   "source": [
    "file_path = \"ds3093_tx_2023_1108_185737/ds3093_tx_All_Data_5123_2022_1219_200023.txt\""
   ]
  },
  {
   "cell_type": "code",
   "execution_count": 23,
   "id": "8c0f2019-a618-4186-b617-8d382753fd18",
   "metadata": {},
   "outputs": [
    {
     "name": "stderr",
     "output_type": "stream",
     "text": [
      "<ipython-input-23-3b579150a1dc>:1: DtypeWarning: Columns (12,13,14,45,46,47,48,49,50,51,52,80,81) have mixed types. Specify dtype option on import or set low_memory=False.\n",
      "  df = pd.read_csv(file_path, sep='\\t')\n"
     ]
    }
   ],
   "source": [
    "df = pd.read_csv(file_path, sep='\\t')"
   ]
  },
  {
   "cell_type": "code",
   "execution_count": 16,
   "id": "e8b83097-1e07-4cfb-b6f8-3f70f53a2d9d",
   "metadata": {},
   "outputs": [
    {
     "data": {
      "text/plain": [
       "Index(['Row', 'Sample Name', 'Transaction Id', 'Anon Student Id', 'Session Id',\n",
       "       'Time', 'Time Zone', 'Duration (sec)', 'Student Response Type',\n",
       "       'Student Response Subtype', 'Tutor Response Type',\n",
       "       'Tutor Response Subtype', 'Level (Assignment)', 'Level (Package)',\n",
       "       'Level (ProblemSet)', 'Level (Position)', 'Level (Assignment).1',\n",
       "       'Level (ProblemSet).1', 'Problem Name', 'Problem View',\n",
       "       'Problem Start Time', 'Step Name', 'Attempt At Step', 'Is Last Attempt',\n",
       "       'Outcome', 'Selection', 'Selection.1', 'Selection.2', 'Action',\n",
       "       'Action.1', 'Input', 'Feedback Text', 'Feedback Classification',\n",
       "       'Help Level', 'Total Num Hints', 'Condition Name', 'Condition Type',\n",
       "       'Condition Name.1', 'Condition Type.1', 'KC (Default)',\n",
       "       'KC Category (Default)', 'KC (Default).1', 'KC Category (Default).1',\n",
       "       'KC (Default).2', 'KC Category (Default).2', 'KC (Default).3',\n",
       "       'KC Category (Default).3', 'KC (Default).4', 'KC Category (Default).4',\n",
       "       'KC (Default).5', 'KC Category (Default).5', 'KC (Default).6',\n",
       "       'KC Category (Default).6', 'KC (Item)', 'KC Category (Item)',\n",
       "       'KC (Exper)', 'KC Category (Exper)', 'KC (Exper2)',\n",
       "       'KC Category (Exper2)', 'KC (Exper-Sys)', 'KC Category (Exper-Sys)',\n",
       "       'KC (Default-temp)', 'KC Category (Default-temp)',\n",
       "       'KC (Default-temp-sys)', 'KC Category (Default-temp-sys)',\n",
       "       'KC (Control-Sys)', 'KC Category (Control-Sys)', 'KC (Control)',\n",
       "       'KC Category (Control)', 'KC (Exper2a)', 'KC Category (Exper2a)',\n",
       "       'KC (Exper2b)', 'KC Category (Exper2b)', 'KC (Single-KC)',\n",
       "       'KC Category (Single-KC)', 'KC (Unique-step)',\n",
       "       'KC Category (Unique-step)', 'School', 'Class',\n",
       "       'CF (Completion History)', 'CF (rules)', 'CF (step_id)',\n",
       "       'CF (tool_event_time)', 'CF (tutor_event_time)', 'CF (tutor_input)',\n",
       "       'Event Type'],\n",
       "      dtype='object')"
      ]
     },
     "execution_count": 16,
     "metadata": {},
     "output_type": "execute_result"
    }
   ],
   "source": [
    "df.columns"
   ]
  },
  {
   "cell_type": "code",
   "execution_count": 18,
   "id": "0cbbcc88-b6a1-4b17-8467-8c99071f307a",
   "metadata": {},
   "outputs": [],
   "source": [
    "sub_df = df[df[\"Level (Assignment)\"].str.contains(\"Pretest\", na=False)]"
   ]
  },
  {
   "cell_type": "code",
   "execution_count": 24,
   "id": "69424bd7-285b-4848-aaef-e126f005668c",
   "metadata": {},
   "outputs": [],
   "source": [
    "sub_df = sub_df[sub_df[\"Level (ProblemSet)\"].str.contains(\"Pretest\", na=False)]"
   ]
  },
  {
   "cell_type": "code",
   "execution_count": 29,
   "id": "68676f98-4ea4-4891-b8eb-f48eb06bdb01",
   "metadata": {},
   "outputs": [
    {
     "data": {
      "text/plain": [
       "array([nan], dtype=object)"
      ]
     },
     "execution_count": 29,
     "metadata": {},
     "output_type": "execute_result"
    }
   ],
   "source": [
    "sub_df['CF (step_id)'].unique()"
   ]
  },
  {
   "cell_type": "code",
   "execution_count": 33,
   "id": "e271ff08-f70d-4fd5-ba83-0cac36ef5579",
   "metadata": {},
   "outputs": [
    {
     "data": {
      "text/plain": [
       "Index(['Row', 'Sample Name', 'Transaction Id', 'Anon Student Id', 'Session Id',\n",
       "       'Time', 'Time Zone', 'Duration (sec)', 'Student Response Type',\n",
       "       'Student Response Subtype', 'Tutor Response Type',\n",
       "       'Tutor Response Subtype', 'Level (Assignment)', 'Level (Package)',\n",
       "       'Level (ProblemSet)', 'Level (Position)', 'Level (Assignment).1',\n",
       "       'Level (ProblemSet).1', 'Problem Name', 'Problem View',\n",
       "       'Problem Start Time', 'Step Name', 'Attempt At Step', 'Is Last Attempt',\n",
       "       'Outcome', 'Selection', 'Selection.1', 'Selection.2', 'Action',\n",
       "       'Action.1', 'Input', 'Feedback Text', 'Feedback Classification',\n",
       "       'Help Level', 'Total Num Hints', 'Condition Name', 'Condition Type',\n",
       "       'Condition Name.1', 'Condition Type.1', 'KC (Default)',\n",
       "       'KC Category (Default)', 'KC (Default).1', 'KC Category (Default).1',\n",
       "       'KC (Default).2', 'KC Category (Default).2', 'KC (Default).3',\n",
       "       'KC Category (Default).3', 'KC (Default).4', 'KC Category (Default).4',\n",
       "       'KC (Default).5', 'KC Category (Default).5', 'KC (Default).6',\n",
       "       'KC Category (Default).6', 'KC (Item)', 'KC Category (Item)',\n",
       "       'KC (Exper)', 'KC Category (Exper)', 'KC (Exper2)',\n",
       "       'KC Category (Exper2)', 'KC (Exper-Sys)', 'KC Category (Exper-Sys)',\n",
       "       'KC (Default-temp)', 'KC Category (Default-temp)',\n",
       "       'KC (Default-temp-sys)', 'KC Category (Default-temp-sys)',\n",
       "       'KC (Control-Sys)', 'KC Category (Control-Sys)', 'KC (Control)',\n",
       "       'KC Category (Control)', 'KC (Exper2a)', 'KC Category (Exper2a)',\n",
       "       'KC (Exper2b)', 'KC Category (Exper2b)', 'KC (Single-KC)',\n",
       "       'KC Category (Single-KC)', 'KC (Unique-step)',\n",
       "       'KC Category (Unique-step)', 'School', 'Class',\n",
       "       'CF (Completion History)', 'CF (rules)', 'CF (step_id)',\n",
       "       'CF (tool_event_time)', 'CF (tutor_event_time)', 'CF (tutor_input)',\n",
       "       'Event Type'],\n",
       "      dtype='object')"
      ]
     },
     "execution_count": 33,
     "metadata": {},
     "output_type": "execute_result"
    }
   ],
   "source": [
    "sub_df.columns"
   ]
  },
  {
   "cell_type": "code",
   "execution_count": 36,
   "id": "7b72737a-93e8-4ba5-b5a2-55c4d64236e4",
   "metadata": {},
   "outputs": [],
   "source": [
    "sub_df[\"unique_step\"] = sub_df['Level (Assignment)'] + sub_df['Level (Package)'] + sub_df['Level (ProblemSet)'].astype(str) + sub_df['Level (Position)'].astype(str) + sub_df['Level (Assignment).1'].astype(str) + sub_df['Level (ProblemSet).1'].astype(str) + sub_df['Problem Name'].astype(str)"
   ]
  },
  {
   "cell_type": "code",
   "execution_count": 37,
   "id": "d02af6b4-9786-4bea-ae33-5d5be8c3edc7",
   "metadata": {},
   "outputs": [
    {
     "data": {
      "text/plain": [
       "159470    [A1-C1234] Demo+Questionnaire+PretestGates 6.0...\n",
       "159471    [A1-C1234] Demo+Questionnaire+PretestGates 6.0...\n",
       "159472    [A1-C1234] Demo+Questionnaire+PretestGates 6.0...\n",
       "159473    [A1-C1234] Demo+Questionnaire+PretestGates 6.0...\n",
       "159474    [A1-C1234] Demo+Questionnaire+PretestGates 6.0...\n",
       "159475    [A1-C1234] Demo+Questionnaire+PretestGates 6.0...\n",
       "Name: unique_step, dtype: object"
      ]
     },
     "execution_count": 37,
     "metadata": {},
     "output_type": "execute_result"
    }
   ],
   "source": [
    "sub_df[\"unique_step\"]"
   ]
  },
  {
   "cell_type": "code",
   "execution_count": 32,
   "id": "dfd677cc-8f91-40ab-aa9e-075a4d7f01be",
   "metadata": {},
   "outputs": [
    {
     "ename": "KeyError",
     "evalue": "'Level (Assignment)'",
     "output_type": "error",
     "traceback": [
      "\u001b[0;31m---------------------------------------------------------------------------\u001b[0m",
      "\u001b[0;31mKeyError\u001b[0m                                  Traceback (most recent call last)",
      "File \u001b[0;32m~/miniconda3/lib/python3.9/site-packages/pandas/core/indexes/base.py:3629\u001b[0m, in \u001b[0;36mIndex.get_loc\u001b[0;34m(self, key, method, tolerance)\u001b[0m\n\u001b[1;32m   3628\u001b[0m \u001b[38;5;28;01mtry\u001b[39;00m:\n\u001b[0;32m-> 3629\u001b[0m     \u001b[38;5;28;01mreturn\u001b[39;00m \u001b[38;5;28;43mself\u001b[39;49m\u001b[38;5;241;43m.\u001b[39;49m\u001b[43m_engine\u001b[49m\u001b[38;5;241;43m.\u001b[39;49m\u001b[43mget_loc\u001b[49m\u001b[43m(\u001b[49m\u001b[43mcasted_key\u001b[49m\u001b[43m)\u001b[49m\n\u001b[1;32m   3630\u001b[0m \u001b[38;5;28;01mexcept\u001b[39;00m \u001b[38;5;167;01mKeyError\u001b[39;00m \u001b[38;5;28;01mas\u001b[39;00m err:\n",
      "File \u001b[0;32m~/miniconda3/lib/python3.9/site-packages/pandas/_libs/index.pyx:136\u001b[0m, in \u001b[0;36mpandas._libs.index.IndexEngine.get_loc\u001b[0;34m()\u001b[0m\n",
      "File \u001b[0;32m~/miniconda3/lib/python3.9/site-packages/pandas/_libs/index.pyx:144\u001b[0m, in \u001b[0;36mpandas._libs.index.IndexEngine.get_loc\u001b[0;34m()\u001b[0m\n",
      "File \u001b[0;32mpandas/_libs/index_class_helper.pxi:41\u001b[0m, in \u001b[0;36mpandas._libs.index.Int64Engine._check_type\u001b[0;34m()\u001b[0m\n",
      "\u001b[0;31mKeyError\u001b[0m: 'Level (Assignment)'",
      "\nThe above exception was the direct cause of the following exception:\n",
      "\u001b[0;31mKeyError\u001b[0m                                  Traceback (most recent call last)",
      "Cell \u001b[0;32mIn [32], line 1\u001b[0m\n\u001b[0;32m----> 1\u001b[0m sub_df[\u001b[38;5;124m\"\u001b[39m\u001b[38;5;124munique_step\u001b[39m\u001b[38;5;124m\"\u001b[39m] \u001b[38;5;241m=\u001b[39m \u001b[43msub_df\u001b[49m\u001b[38;5;241;43m.\u001b[39;49m\u001b[43mapply\u001b[49m\u001b[43m(\u001b[49m\u001b[38;5;28;43;01mlambda\u001b[39;49;00m\u001b[43m \u001b[49m\u001b[43mx\u001b[49m\u001b[43m:\u001b[49m\u001b[43m \u001b[49m\u001b[43mx\u001b[49m\u001b[43m[\u001b[49m\u001b[38;5;124;43m'\u001b[39;49m\u001b[38;5;124;43mLevel (Assignment)\u001b[39;49m\u001b[38;5;124;43m'\u001b[39;49m\u001b[43m]\u001b[49m\u001b[43m \u001b[49m\u001b[38;5;241;43m+\u001b[39;49m\u001b[43m \u001b[49m\u001b[43mx\u001b[49m\u001b[43m[\u001b[49m\u001b[38;5;124;43m'\u001b[39;49m\u001b[38;5;124;43mLevel (Package)\u001b[39;49m\u001b[38;5;124;43m'\u001b[39;49m\u001b[43m]\u001b[49m\u001b[43m \u001b[49m\u001b[38;5;241;43m+\u001b[39;49m\u001b[43m \u001b[49m\u001b[43mx\u001b[49m\u001b[43m[\u001b[49m\u001b[38;5;124;43m'\u001b[39;49m\u001b[38;5;124;43mLevel (ProblemSet)\u001b[39;49m\u001b[38;5;124;43m'\u001b[39;49m\u001b[43m]\u001b[49m\u001b[43m \u001b[49m\u001b[38;5;241;43m+\u001b[39;49m\u001b[43m \u001b[49m\u001b[43mx\u001b[49m\u001b[43m[\u001b[49m\u001b[38;5;124;43m'\u001b[39;49m\u001b[38;5;124;43mLevel (Position)\u001b[39;49m\u001b[38;5;124;43m'\u001b[39;49m\u001b[43m]\u001b[49m\u001b[43m \u001b[49m\u001b[38;5;241;43m+\u001b[39;49m\u001b[43m \u001b[49m\u001b[43mx\u001b[49m\u001b[43m[\u001b[49m\u001b[38;5;124;43m'\u001b[39;49m\u001b[38;5;124;43mLevel (Assignment).1\u001b[39;49m\u001b[38;5;124;43m'\u001b[39;49m\u001b[43m]\u001b[49m\u001b[43m \u001b[49m\u001b[38;5;241;43m+\u001b[39;49m\u001b[43m \u001b[49m\u001b[43mx\u001b[49m\u001b[43m[\u001b[49m\u001b[38;5;124;43m'\u001b[39;49m\u001b[38;5;124;43mLevel (ProblemSet).1\u001b[39;49m\u001b[38;5;124;43m'\u001b[39;49m\u001b[43m]\u001b[49m\u001b[43m \u001b[49m\u001b[38;5;241;43m+\u001b[39;49m\u001b[43m \u001b[49m\u001b[43mx\u001b[49m\u001b[43m[\u001b[49m\u001b[38;5;124;43m'\u001b[39;49m\u001b[38;5;124;43mProblem Name\u001b[39;49m\u001b[38;5;124;43m'\u001b[39;49m\u001b[43m]\u001b[49m\u001b[43m)\u001b[49m\n",
      "File \u001b[0;32m~/miniconda3/lib/python3.9/site-packages/pandas/core/frame.py:8848\u001b[0m, in \u001b[0;36mDataFrame.apply\u001b[0;34m(self, func, axis, raw, result_type, args, **kwargs)\u001b[0m\n\u001b[1;32m   8837\u001b[0m \u001b[38;5;28;01mfrom\u001b[39;00m \u001b[38;5;21;01mpandas\u001b[39;00m\u001b[38;5;21;01m.\u001b[39;00m\u001b[38;5;21;01mcore\u001b[39;00m\u001b[38;5;21;01m.\u001b[39;00m\u001b[38;5;21;01mapply\u001b[39;00m \u001b[38;5;28;01mimport\u001b[39;00m frame_apply\n\u001b[1;32m   8839\u001b[0m op \u001b[38;5;241m=\u001b[39m frame_apply(\n\u001b[1;32m   8840\u001b[0m     \u001b[38;5;28mself\u001b[39m,\n\u001b[1;32m   8841\u001b[0m     func\u001b[38;5;241m=\u001b[39mfunc,\n\u001b[0;32m   (...)\u001b[0m\n\u001b[1;32m   8846\u001b[0m     kwargs\u001b[38;5;241m=\u001b[39mkwargs,\n\u001b[1;32m   8847\u001b[0m )\n\u001b[0;32m-> 8848\u001b[0m \u001b[38;5;28;01mreturn\u001b[39;00m \u001b[43mop\u001b[49m\u001b[38;5;241;43m.\u001b[39;49m\u001b[43mapply\u001b[49m\u001b[43m(\u001b[49m\u001b[43m)\u001b[49m\u001b[38;5;241m.\u001b[39m__finalize__(\u001b[38;5;28mself\u001b[39m, method\u001b[38;5;241m=\u001b[39m\u001b[38;5;124m\"\u001b[39m\u001b[38;5;124mapply\u001b[39m\u001b[38;5;124m\"\u001b[39m)\n",
      "File \u001b[0;32m~/miniconda3/lib/python3.9/site-packages/pandas/core/apply.py:733\u001b[0m, in \u001b[0;36mFrameApply.apply\u001b[0;34m(self)\u001b[0m\n\u001b[1;32m    730\u001b[0m \u001b[38;5;28;01melif\u001b[39;00m \u001b[38;5;28mself\u001b[39m\u001b[38;5;241m.\u001b[39mraw:\n\u001b[1;32m    731\u001b[0m     \u001b[38;5;28;01mreturn\u001b[39;00m \u001b[38;5;28mself\u001b[39m\u001b[38;5;241m.\u001b[39mapply_raw()\n\u001b[0;32m--> 733\u001b[0m \u001b[38;5;28;01mreturn\u001b[39;00m \u001b[38;5;28;43mself\u001b[39;49m\u001b[38;5;241;43m.\u001b[39;49m\u001b[43mapply_standard\u001b[49m\u001b[43m(\u001b[49m\u001b[43m)\u001b[49m\n",
      "File \u001b[0;32m~/miniconda3/lib/python3.9/site-packages/pandas/core/apply.py:857\u001b[0m, in \u001b[0;36mFrameApply.apply_standard\u001b[0;34m(self)\u001b[0m\n\u001b[1;32m    856\u001b[0m \u001b[38;5;28;01mdef\u001b[39;00m \u001b[38;5;21mapply_standard\u001b[39m(\u001b[38;5;28mself\u001b[39m):\n\u001b[0;32m--> 857\u001b[0m     results, res_index \u001b[38;5;241m=\u001b[39m \u001b[38;5;28;43mself\u001b[39;49m\u001b[38;5;241;43m.\u001b[39;49m\u001b[43mapply_series_generator\u001b[49m\u001b[43m(\u001b[49m\u001b[43m)\u001b[49m\n\u001b[1;32m    859\u001b[0m     \u001b[38;5;66;03m# wrap results\u001b[39;00m\n\u001b[1;32m    860\u001b[0m     \u001b[38;5;28;01mreturn\u001b[39;00m \u001b[38;5;28mself\u001b[39m\u001b[38;5;241m.\u001b[39mwrap_results(results, res_index)\n",
      "File \u001b[0;32m~/miniconda3/lib/python3.9/site-packages/pandas/core/apply.py:873\u001b[0m, in \u001b[0;36mFrameApply.apply_series_generator\u001b[0;34m(self)\u001b[0m\n\u001b[1;32m    870\u001b[0m \u001b[38;5;28;01mwith\u001b[39;00m option_context(\u001b[38;5;124m\"\u001b[39m\u001b[38;5;124mmode.chained_assignment\u001b[39m\u001b[38;5;124m\"\u001b[39m, \u001b[38;5;28;01mNone\u001b[39;00m):\n\u001b[1;32m    871\u001b[0m     \u001b[38;5;28;01mfor\u001b[39;00m i, v \u001b[38;5;129;01min\u001b[39;00m \u001b[38;5;28menumerate\u001b[39m(series_gen):\n\u001b[1;32m    872\u001b[0m         \u001b[38;5;66;03m# ignore SettingWithCopy here in case the user mutates\u001b[39;00m\n\u001b[0;32m--> 873\u001b[0m         results[i] \u001b[38;5;241m=\u001b[39m \u001b[38;5;28;43mself\u001b[39;49m\u001b[38;5;241;43m.\u001b[39;49m\u001b[43mf\u001b[49m\u001b[43m(\u001b[49m\u001b[43mv\u001b[49m\u001b[43m)\u001b[49m\n\u001b[1;32m    874\u001b[0m         \u001b[38;5;28;01mif\u001b[39;00m \u001b[38;5;28misinstance\u001b[39m(results[i], ABCSeries):\n\u001b[1;32m    875\u001b[0m             \u001b[38;5;66;03m# If we have a view on v, we need to make a copy because\u001b[39;00m\n\u001b[1;32m    876\u001b[0m             \u001b[38;5;66;03m#  series_generator will swap out the underlying data\u001b[39;00m\n\u001b[1;32m    877\u001b[0m             results[i] \u001b[38;5;241m=\u001b[39m results[i]\u001b[38;5;241m.\u001b[39mcopy(deep\u001b[38;5;241m=\u001b[39m\u001b[38;5;28;01mFalse\u001b[39;00m)\n",
      "Cell \u001b[0;32mIn [32], line 1\u001b[0m, in \u001b[0;36m<lambda>\u001b[0;34m(x)\u001b[0m\n\u001b[0;32m----> 1\u001b[0m sub_df[\u001b[38;5;124m\"\u001b[39m\u001b[38;5;124munique_step\u001b[39m\u001b[38;5;124m\"\u001b[39m] \u001b[38;5;241m=\u001b[39m sub_df\u001b[38;5;241m.\u001b[39mapply(\u001b[38;5;28;01mlambda\u001b[39;00m x: \u001b[43mx\u001b[49m\u001b[43m[\u001b[49m\u001b[38;5;124;43m'\u001b[39;49m\u001b[38;5;124;43mLevel (Assignment)\u001b[39;49m\u001b[38;5;124;43m'\u001b[39;49m\u001b[43m]\u001b[49m \u001b[38;5;241m+\u001b[39m x[\u001b[38;5;124m'\u001b[39m\u001b[38;5;124mLevel (Package)\u001b[39m\u001b[38;5;124m'\u001b[39m] \u001b[38;5;241m+\u001b[39m x[\u001b[38;5;124m'\u001b[39m\u001b[38;5;124mLevel (ProblemSet)\u001b[39m\u001b[38;5;124m'\u001b[39m] \u001b[38;5;241m+\u001b[39m x[\u001b[38;5;124m'\u001b[39m\u001b[38;5;124mLevel (Position)\u001b[39m\u001b[38;5;124m'\u001b[39m] \u001b[38;5;241m+\u001b[39m x[\u001b[38;5;124m'\u001b[39m\u001b[38;5;124mLevel (Assignment).1\u001b[39m\u001b[38;5;124m'\u001b[39m] \u001b[38;5;241m+\u001b[39m x[\u001b[38;5;124m'\u001b[39m\u001b[38;5;124mLevel (ProblemSet).1\u001b[39m\u001b[38;5;124m'\u001b[39m] \u001b[38;5;241m+\u001b[39m x[\u001b[38;5;124m'\u001b[39m\u001b[38;5;124mProblem Name\u001b[39m\u001b[38;5;124m'\u001b[39m])\n",
      "File \u001b[0;32m~/miniconda3/lib/python3.9/site-packages/pandas/core/series.py:958\u001b[0m, in \u001b[0;36mSeries.__getitem__\u001b[0;34m(self, key)\u001b[0m\n\u001b[1;32m    955\u001b[0m     \u001b[38;5;28;01mreturn\u001b[39;00m \u001b[38;5;28mself\u001b[39m\u001b[38;5;241m.\u001b[39m_values[key]\n\u001b[1;32m    957\u001b[0m \u001b[38;5;28;01melif\u001b[39;00m key_is_scalar:\n\u001b[0;32m--> 958\u001b[0m     \u001b[38;5;28;01mreturn\u001b[39;00m \u001b[38;5;28;43mself\u001b[39;49m\u001b[38;5;241;43m.\u001b[39;49m\u001b[43m_get_value\u001b[49m\u001b[43m(\u001b[49m\u001b[43mkey\u001b[49m\u001b[43m)\u001b[49m\n\u001b[1;32m    960\u001b[0m \u001b[38;5;28;01mif\u001b[39;00m is_hashable(key):\n\u001b[1;32m    961\u001b[0m     \u001b[38;5;66;03m# Otherwise index.get_value will raise InvalidIndexError\u001b[39;00m\n\u001b[1;32m    962\u001b[0m     \u001b[38;5;28;01mtry\u001b[39;00m:\n\u001b[1;32m    963\u001b[0m         \u001b[38;5;66;03m# For labels that don't resolve as scalars like tuples and frozensets\u001b[39;00m\n",
      "File \u001b[0;32m~/miniconda3/lib/python3.9/site-packages/pandas/core/series.py:1069\u001b[0m, in \u001b[0;36mSeries._get_value\u001b[0;34m(self, label, takeable)\u001b[0m\n\u001b[1;32m   1066\u001b[0m     \u001b[38;5;28;01mreturn\u001b[39;00m \u001b[38;5;28mself\u001b[39m\u001b[38;5;241m.\u001b[39m_values[label]\n\u001b[1;32m   1068\u001b[0m \u001b[38;5;66;03m# Similar to Index.get_value, but we do not fall back to positional\u001b[39;00m\n\u001b[0;32m-> 1069\u001b[0m loc \u001b[38;5;241m=\u001b[39m \u001b[38;5;28;43mself\u001b[39;49m\u001b[38;5;241;43m.\u001b[39;49m\u001b[43mindex\u001b[49m\u001b[38;5;241;43m.\u001b[39;49m\u001b[43mget_loc\u001b[49m\u001b[43m(\u001b[49m\u001b[43mlabel\u001b[49m\u001b[43m)\u001b[49m\n\u001b[1;32m   1070\u001b[0m \u001b[38;5;28;01mreturn\u001b[39;00m \u001b[38;5;28mself\u001b[39m\u001b[38;5;241m.\u001b[39mindex\u001b[38;5;241m.\u001b[39m_get_values_for_loc(\u001b[38;5;28mself\u001b[39m, loc, label)\n",
      "File \u001b[0;32m~/miniconda3/lib/python3.9/site-packages/pandas/core/indexes/base.py:3631\u001b[0m, in \u001b[0;36mIndex.get_loc\u001b[0;34m(self, key, method, tolerance)\u001b[0m\n\u001b[1;32m   3629\u001b[0m     \u001b[38;5;28;01mreturn\u001b[39;00m \u001b[38;5;28mself\u001b[39m\u001b[38;5;241m.\u001b[39m_engine\u001b[38;5;241m.\u001b[39mget_loc(casted_key)\n\u001b[1;32m   3630\u001b[0m \u001b[38;5;28;01mexcept\u001b[39;00m \u001b[38;5;167;01mKeyError\u001b[39;00m \u001b[38;5;28;01mas\u001b[39;00m err:\n\u001b[0;32m-> 3631\u001b[0m     \u001b[38;5;28;01mraise\u001b[39;00m \u001b[38;5;167;01mKeyError\u001b[39;00m(key) \u001b[38;5;28;01mfrom\u001b[39;00m \u001b[38;5;21;01merr\u001b[39;00m\n\u001b[1;32m   3632\u001b[0m \u001b[38;5;28;01mexcept\u001b[39;00m \u001b[38;5;167;01mTypeError\u001b[39;00m:\n\u001b[1;32m   3633\u001b[0m     \u001b[38;5;66;03m# If we have a listlike key, _check_indexing_error will raise\u001b[39;00m\n\u001b[1;32m   3634\u001b[0m     \u001b[38;5;66;03m#  InvalidIndexError. Otherwise we fall through and re-raise\u001b[39;00m\n\u001b[1;32m   3635\u001b[0m     \u001b[38;5;66;03m#  the TypeError.\u001b[39;00m\n\u001b[1;32m   3636\u001b[0m     \u001b[38;5;28mself\u001b[39m\u001b[38;5;241m.\u001b[39m_check_indexing_error(key)\n",
      "\u001b[0;31mKeyError\u001b[0m: 'Level (Assignment)'"
     ]
    }
   ],
   "source": [
    "sub_df[\"unique_step\"] = sub_df.apply(lambda x: x['Level (Assignment)'] + x['Level (Package)'] + x['Level (ProblemSet)'] + x['Level (Position)'] + x['Level (Assignment).1'] + x['Level (ProblemSet).1'] + x['Problem Name'])"
   ]
  },
  {
   "cell_type": "code",
   "execution_count": null,
   "id": "4c89de15-beb9-4447-88c4-95f8db0abb29",
   "metadata": {},
   "outputs": [],
   "source": []
  },
  {
   "cell_type": "code",
   "execution_count": null,
   "id": "5ed4012b-861c-44f5-8477-b792bc17ea70",
   "metadata": {},
   "outputs": [],
   "source": []
  },
  {
   "cell_type": "code",
   "execution_count": null,
   "id": "208aad9f-9024-428c-a18f-30135459d8aa",
   "metadata": {},
   "outputs": [],
   "source": []
  },
  {
   "cell_type": "code",
   "execution_count": null,
   "id": "8eb5ed3b-cb25-4c6c-8c8c-a1d51fdcb267",
   "metadata": {},
   "outputs": [],
   "source": []
  },
  {
   "cell_type": "code",
   "execution_count": null,
   "id": "4291dce0-8a47-407f-a021-2b9f71415dfc",
   "metadata": {},
   "outputs": [],
   "source": []
  },
  {
   "cell_type": "code",
   "execution_count": null,
   "id": "cd5fe067-6f65-474a-af6b-c57aefa730de",
   "metadata": {},
   "outputs": [],
   "source": []
  },
  {
   "cell_type": "code",
   "execution_count": null,
   "id": "e2619052-f2af-4975-8f5d-f7e8adc88513",
   "metadata": {},
   "outputs": [],
   "source": []
  },
  {
   "cell_type": "code",
   "execution_count": null,
   "id": "26899eba-735f-404f-86d0-5f42582716f0",
   "metadata": {},
   "outputs": [],
   "source": []
  },
  {
   "cell_type": "code",
   "execution_count": null,
   "id": "5da8a7fb-95f4-490a-b2f9-90c4ba6f8670",
   "metadata": {},
   "outputs": [],
   "source": []
  },
  {
   "cell_type": "code",
   "execution_count": null,
   "id": "a157d705-b7d8-45f6-ba93-354912d62bee",
   "metadata": {},
   "outputs": [],
   "source": []
  },
  {
   "cell_type": "code",
   "execution_count": null,
   "id": "471f2c34-5534-4e64-a23e-91eb84d96157",
   "metadata": {},
   "outputs": [],
   "source": []
  },
  {
   "cell_type": "code",
   "execution_count": null,
   "id": "150dc0fe-8fcd-4d7f-9c80-5a312626f5fd",
   "metadata": {},
   "outputs": [],
   "source": []
  },
  {
   "cell_type": "code",
   "execution_count": null,
   "id": "aec3740b-23b4-4cf4-86b1-6d9926504226",
   "metadata": {},
   "outputs": [],
   "source": []
  },
  {
   "cell_type": "code",
   "execution_count": null,
   "id": "3d7e7510-1316-4aaa-999d-f17a135df8d8",
   "metadata": {},
   "outputs": [],
   "source": []
  },
  {
   "cell_type": "code",
   "execution_count": null,
   "id": "147ad7e2-4b3b-4951-8ca2-f38e9f076886",
   "metadata": {},
   "outputs": [],
   "source": []
  },
  {
   "cell_type": "code",
   "execution_count": null,
   "id": "f7168e46-92e1-4c8a-b632-7ae96ae1a6c2",
   "metadata": {},
   "outputs": [],
   "source": []
  },
  {
   "cell_type": "code",
   "execution_count": null,
   "id": "00ca1637-38a0-44f4-9627-dc0b9e8e4f89",
   "metadata": {},
   "outputs": [],
   "source": []
  },
  {
   "cell_type": "code",
   "execution_count": null,
   "id": "897a5e5a-0bc0-448b-87fe-6fb4efff0c76",
   "metadata": {},
   "outputs": [],
   "source": []
  },
  {
   "cell_type": "code",
   "execution_count": null,
   "id": "54d30a60-1355-46fa-8caf-7b4fc7083790",
   "metadata": {},
   "outputs": [],
   "source": []
  },
  {
   "cell_type": "code",
   "execution_count": null,
   "id": "07000990-e6cc-45b7-ace0-7387e39d3188",
   "metadata": {},
   "outputs": [],
   "source": []
  },
  {
   "cell_type": "code",
   "execution_count": null,
   "id": "90f5ecd4-1a80-4dfe-92d1-f8bbf2081159",
   "metadata": {},
   "outputs": [],
   "source": []
  },
  {
   "cell_type": "code",
   "execution_count": null,
   "id": "d1e1440e-01cf-4673-87f8-1e9a300cc2ce",
   "metadata": {},
   "outputs": [],
   "source": []
  },
  {
   "cell_type": "code",
   "execution_count": 182,
   "id": "cd773a11-7736-40ea-929c-fff09a414871",
   "metadata": {},
   "outputs": [
    {
     "data": {
      "text/plain": [
       "array(['[A1-C5678] Demo+Questionnaire+Pretest',\n",
       "       '[A3W1-C1357] Thinking About Math', '[A2-C3478] Practice',\n",
       "       '[A3W2-C1357] Thinking About Math',\n",
       "       '[A3W3-C1357] Thinking About Math',\n",
       "       '[A3W4-C1357] Thinking About Math', '[A4-C12345678] Questionnaire',\n",
       "       '[A5-C5678] Posttest', '[A6-C12345678] Extra Practice',\n",
       "       '[A2-C1256] Practice', '[A1-C1234] Demo+Questionnaire+Pretest',\n",
       "       '[A3W1-C2468] Thinking About Math',\n",
       "       '[A3W2-C2468] Thinking About Math',\n",
       "       '[A3W3-C2468] Thinking About Math',\n",
       "       '[A3W4-C2468] Thinking About Math', '[A5-C1234] Posttest',\n",
       "       '[A7-C12345678] Systems of Equations',\n",
       "       '[A3W1-C2468-Sk] Thinking About Math',\n",
       "       '[A1-C5678-Abs] Demo+Questionnaire+Pretest',\n",
       "       '[A1-C1234-Abs] Demo+Questionnaire+Pretest',\n",
       "       'Demo for City Charter School',\n",
       "       '[A3W2-C2468-Sk] Thinking About Math',\n",
       "       '[A3W2-C1357-Sk] Thinking About Math', 'Default Assignment',\n",
       "       '[A3W1-C1357-Sk] Thinking About Math',\n",
       "       \"[A7-C12345678] Systems of Equations (Testing, don't activate)\",\n",
       "       nan], dtype=object)"
      ]
     },
     "execution_count": 182,
     "metadata": {},
     "output_type": "execute_result"
    }
   ],
   "source": [
    "df[\"Level (Assignment).1\"].unique()"
   ]
  },
  {
   "cell_type": "code",
   "execution_count": 183,
   "id": "85deb947-60f0-4481-864c-45df36e51db8",
   "metadata": {},
   "outputs": [
    {
     "data": {
      "text/plain": [
       "array([nan, 'done ButtonPressed',\n",
       "       'Q1-radio-button-group UpdateRadioButton',\n",
       "       'Q2-radio-button-group UpdateRadioButton',\n",
       "       'Q3-radio-button-group UpdateRadioButton',\n",
       "       'Q4-radio-button-group UpdateRadioButton',\n",
       "       'Q6-radio-button-group UpdateRadioButton',\n",
       "       'Q5-radio-button-group UpdateRadioButton',\n",
       "       'firstleft UpdateTextField', 'firstmid UpdateTextField',\n",
       "       'firstright UpdateTextField', 'secondleft UpdateTextField',\n",
       "       'secondmid UpdateTextField', 'secondright UpdateTextField',\n",
       "       'thirdleft UpdateTextField', 'thirdright UpdateTextField',\n",
       "       'enter-formula-input UpdateTextField',\n",
       "       'fourthleft UpdateTextField', 'fourthmid UpdateTextField',\n",
       "       'fourthright UpdateTextField', 'fifthmid UpdateTextField',\n",
       "       'fifthleft UpdateTextField', 'fifthright UpdateTextField',\n",
       "       'exp1 UpdateTextField', 'exp2 UpdateTextField',\n",
       "       'exp3 UpdateTextField', 'def4 UpdateComboBox',\n",
       "       'exp5 UpdateTextField', 'exp6 UpdateTextField',\n",
       "       'def1 UpdateComboBox', 'def2 UpdateComboBox',\n",
       "       'def3 UpdateComboBox', 'def5 UpdateComboBox',\n",
       "       'def6 UpdateComboBox', 'exp4 UpdateTextField',\n",
       "       'exp7 UpdateTextField', 'def7 UpdateComboBox',\n",
       "       'radio-button-group UpdateRadioButton', 'restate SetVisible',\n",
       "       'chosen-speaker UpdateTextField', 'que-1 SetVisible',\n",
       "       'que-1-input SetVisible', 'submit-que-1 SetVisible',\n",
       "       'chosen-speaker-quote UpdateTextField', 'que-2 SetVisible',\n",
       "       'que-2-input SetVisible', 'submit-que-2 SetVisible',\n",
       "       'que-1-input UpdateTextArea', 'done SetVisible',\n",
       "       'que-2-input UpdateTextArea', 'cal-y-giv-x-input SetVisible',\n",
       "       'enter-formula-input lock', 'IS-intro-text SetVisible',\n",
       "       'cal-y-giv-x-text SetVisible', 'enter-formula-input setIncorrect',\n",
       "       'cal-y-giv-x-input UpdateTextField',\n",
       "       'IS-flex-step-2-input SetVisible',\n",
       "       'IS-flex-step-2-text SetVisible',\n",
       "       'IS-flex-step-2-text UpdateTextField',\n",
       "       'IS-flex-step-2-input UpdateTextField', 'exp2 SetVisible',\n",
       "       'break_down_text SetVisible', 'exp1 setIncorrect', 'exp1 lock',\n",
       "       'def2 SetVisible', 'def3 SetVisible', 'exp3 SetVisible',\n",
       "       'revisit_text SetVisible', 'exp4 SetVisible', 'def4 SetVisible',\n",
       "       'CS-step-1-text SetVisible', 'CS-step-1-input SetVisible',\n",
       "       'CS-intro-text SetVisible', 'CS-step-2-input SetVisible',\n",
       "       'CS-step-2-text SetVisible', 'CS-step-1-input UpdateTextField',\n",
       "       'CS-step-2-input UpdateTextField', 'CS-step-3-text SetVisible',\n",
       "       'CS-step-3-input SetVisible', 'CS-step-3-input UpdateTextField',\n",
       "       'main-input UpdateTextField', 'main-input setIncorrect',\n",
       "       'main-input lock', 'scaffold-text SetVisible',\n",
       "       'radio-button-1 SetVisible', 'radio-button-2-text SetVisible',\n",
       "       'radio-button-2 SetVisible', 'radio-button-1-text SetVisible',\n",
       "       'radio-button-3 SetVisible', 'radio-button-3-text SetVisible',\n",
       "       'radioButtonGroup UpdateRadioButton', 'revisit-text SetVisible',\n",
       "       'revisit-input SetVisible', 'revisit-input UpdateTextField',\n",
       "       'def1 setIncorrect', 'def1 lock', 'solveLeft1 UpdateTextField',\n",
       "       'solveRight1 UpdateTextField', 'solveLeft2 UpdateTextField',\n",
       "       'solveRight2 UpdateTextField', 'thirdmid UpdateTextField',\n",
       "       'undefined undefined', 'part1 addClass',\n",
       "       'enter-formula-revisit-input SetVisible',\n",
       "       'enter-formula-revisit-text SetVisible',\n",
       "       'enter-formula-revisit-input UpdateTextField',\n",
       "       'first1 UpdateTextField', 'first2 UpdateTextField',\n",
       "       'first3 UpdateTextField', 'first4 UpdateTextField',\n",
       "       'first5 UpdateTextField', 'first6 UpdateTextField',\n",
       "       'second1 UpdateTextField', 'second2 UpdateTextField',\n",
       "       'second3 UpdateTextField', 'second4 UpdateTextField',\n",
       "       'second5 UpdateTextField', 'second6 UpdateTextField',\n",
       "       'eq-statement SetVisible', 'eq1-text SetVisible', 'eq1 SetVisible',\n",
       "       'eq2-text SetVisible', 'eq2 SetVisible', 'eq1 UpdateTextField',\n",
       "       'eq2 UpdateTextField', 'third1 UpdateTextField',\n",
       "       'third2 UpdateTextField', 'third3 UpdateTextField',\n",
       "       'third4 UpdateTextField', 'third5 UpdateTextField',\n",
       "       'solveLeft3 UpdateTextField', 'solveRight3 UpdateTextField',\n",
       "       'solveLeft4 UpdateTextField', 'solveRight4 UpdateTextField',\n",
       "       'solveLeft5 UpdateTextField', 'solveRight5 UpdateTextField',\n",
       "       'solveLeft6 UpdateTextField', 'solveRight6 UpdateTextField'],\n",
       "      dtype=object)"
      ]
     },
     "execution_count": 183,
     "metadata": {},
     "output_type": "execute_result"
    }
   ],
   "source": [
    "df[\"Step Name\"].unique()"
   ]
  },
  {
   "cell_type": "code",
   "execution_count": 185,
   "id": "6c7cad0a-733a-467f-974e-e021ba7bd51a",
   "metadata": {},
   "outputs": [],
   "source": [
    "df = df.sort_values(by='Time').drop_duplicates(subset=['Anon Student Id', 'Step Name'], keep='first')"
   ]
  },
  {
   "cell_type": "code",
   "execution_count": 186,
   "id": "cf23426a-e5a2-4fe0-91f7-228317783f10",
   "metadata": {},
   "outputs": [],
   "source": [
    "# get posttest\n",
    "sub_df = df[df[\"Level (Assignment).1\"].str.contains(\"Posttest\", na=False)]"
   ]
  },
  {
   "cell_type": "code",
   "execution_count": 187,
   "id": "6b414e84-1ad6-48a1-a056-335ef5a2483d",
   "metadata": {},
   "outputs": [
    {
     "data": {
      "text/plain": [
       "array(['CORRECT', 'INCORRECT', 'HINT'], dtype=object)"
      ]
     },
     "execution_count": 187,
     "metadata": {},
     "output_type": "execute_result"
    }
   ],
   "source": [
    "sub_df[\"Outcome\"].unique()"
   ]
  },
  {
   "cell_type": "code",
   "execution_count": 188,
   "id": "c72cb9b0-0758-4c0b-acde-1eb6af7185a3",
   "metadata": {},
   "outputs": [],
   "source": [
    "# sub_df = sub_df.drop_duplicates(subset=['Anon Student Id', 'Step Name'], keep='first')"
   ]
  },
  {
   "cell_type": "code",
   "execution_count": 189,
   "id": "f517226c-b8ff-476f-8ecd-7555504b65b6",
   "metadata": {},
   "outputs": [],
   "source": [
    "post_test_result = sub_df.groupby('Anon Student Id')['Outcome'].apply(lambda x: (x == 'CORRECT').sum() / len(x)).reset_index()"
   ]
  },
  {
   "cell_type": "code",
   "execution_count": 190,
   "id": "f9eaf1c7-0853-46bf-b430-dda4f685b3c5",
   "metadata": {},
   "outputs": [
    {
     "data": {
      "text/html": [
       "<div>\n",
       "<style scoped>\n",
       "    .dataframe tbody tr th:only-of-type {\n",
       "        vertical-align: middle;\n",
       "    }\n",
       "\n",
       "    .dataframe tbody tr th {\n",
       "        vertical-align: top;\n",
       "    }\n",
       "\n",
       "    .dataframe thead th {\n",
       "        text-align: right;\n",
       "    }\n",
       "</style>\n",
       "<table border=\"1\" class=\"dataframe\">\n",
       "  <thead>\n",
       "    <tr style=\"text-align: right;\">\n",
       "      <th></th>\n",
       "      <th>Anon Student Id</th>\n",
       "      <th>Outcome</th>\n",
       "    </tr>\n",
       "  </thead>\n",
       "  <tbody>\n",
       "    <tr>\n",
       "      <th>0</th>\n",
       "      <td>Stu_0579afc78056a2adba2b37cf5e722ee2</td>\n",
       "      <td>0.000000</td>\n",
       "    </tr>\n",
       "    <tr>\n",
       "      <th>1</th>\n",
       "      <td>Stu_0579ea4e9dd6bcf83463cd55a419fd79</td>\n",
       "      <td>0.000000</td>\n",
       "    </tr>\n",
       "    <tr>\n",
       "      <th>2</th>\n",
       "      <td>Stu_05bdce2051525a38318a7eb7f95eec84</td>\n",
       "      <td>0.500000</td>\n",
       "    </tr>\n",
       "    <tr>\n",
       "      <th>3</th>\n",
       "      <td>Stu_10bc8ace2a69440f72b94a5eada1bdf2</td>\n",
       "      <td>1.000000</td>\n",
       "    </tr>\n",
       "    <tr>\n",
       "      <th>4</th>\n",
       "      <td>Stu_10dd499fee6bd8bb2c1eea42a810318f</td>\n",
       "      <td>0.600000</td>\n",
       "    </tr>\n",
       "    <tr>\n",
       "      <th>...</th>\n",
       "      <td>...</td>\n",
       "      <td>...</td>\n",
       "    </tr>\n",
       "    <tr>\n",
       "      <th>81</th>\n",
       "      <td>Stu_f317a79acbeb084178eaf1810689d6d3</td>\n",
       "      <td>0.777778</td>\n",
       "    </tr>\n",
       "    <tr>\n",
       "      <th>82</th>\n",
       "      <td>Stu_f438209db71f8e0e973ae55e8ac8c1a8</td>\n",
       "      <td>0.000000</td>\n",
       "    </tr>\n",
       "    <tr>\n",
       "      <th>83</th>\n",
       "      <td>Stu_f4c4d572b372aa1c8eed90dfa880f355</td>\n",
       "      <td>0.333333</td>\n",
       "    </tr>\n",
       "    <tr>\n",
       "      <th>84</th>\n",
       "      <td>Stu_fc36b2d283cdc551beba115eb0c9bae7</td>\n",
       "      <td>0.500000</td>\n",
       "    </tr>\n",
       "    <tr>\n",
       "      <th>85</th>\n",
       "      <td>Stu_fd400821d994bb1d167a4e9010231035</td>\n",
       "      <td>0.000000</td>\n",
       "    </tr>\n",
       "  </tbody>\n",
       "</table>\n",
       "<p>86 rows × 2 columns</p>\n",
       "</div>"
      ],
      "text/plain": [
       "                         Anon Student Id   Outcome\n",
       "0   Stu_0579afc78056a2adba2b37cf5e722ee2  0.000000\n",
       "1   Stu_0579ea4e9dd6bcf83463cd55a419fd79  0.000000\n",
       "2   Stu_05bdce2051525a38318a7eb7f95eec84  0.500000\n",
       "3   Stu_10bc8ace2a69440f72b94a5eada1bdf2  1.000000\n",
       "4   Stu_10dd499fee6bd8bb2c1eea42a810318f  0.600000\n",
       "..                                   ...       ...\n",
       "81  Stu_f317a79acbeb084178eaf1810689d6d3  0.777778\n",
       "82  Stu_f438209db71f8e0e973ae55e8ac8c1a8  0.000000\n",
       "83  Stu_f4c4d572b372aa1c8eed90dfa880f355  0.333333\n",
       "84  Stu_fc36b2d283cdc551beba115eb0c9bae7  0.500000\n",
       "85  Stu_fd400821d994bb1d167a4e9010231035  0.000000\n",
       "\n",
       "[86 rows x 2 columns]"
      ]
     },
     "execution_count": 190,
     "metadata": {},
     "output_type": "execute_result"
    }
   ],
   "source": [
    "post_test_result"
   ]
  },
  {
   "cell_type": "code",
   "execution_count": null,
   "id": "464cedaa-b41b-4a2e-a40e-ec7cba588a6e",
   "metadata": {},
   "outputs": [],
   "source": []
  },
  {
   "cell_type": "code",
   "execution_count": 191,
   "id": "a6f3f95d-abff-40b7-a0c6-c99d48501b7b",
   "metadata": {},
   "outputs": [],
   "source": [
    "sub_df2 = df[df[\"Level (Assignment).1\"].str.contains(\"Pretest\", na=False)]"
   ]
  },
  {
   "cell_type": "code",
   "execution_count": 192,
   "id": "d3534df7-ea0d-4ea8-a2f4-0c13b7928e8e",
   "metadata": {},
   "outputs": [
    {
     "data": {
      "text/plain": [
       "array([nan, 'CORRECT', 'HINT', 'INCORRECT'], dtype=object)"
      ]
     },
     "execution_count": 192,
     "metadata": {},
     "output_type": "execute_result"
    }
   ],
   "source": [
    "sub_df2[\"Outcome\"].unique()"
   ]
  },
  {
   "cell_type": "code",
   "execution_count": 193,
   "id": "c2aea3ce-74b2-409b-9293-4029d50121c8",
   "metadata": {},
   "outputs": [],
   "source": [
    "# sub_df2 = sub_df2.drop_duplicates(subset=['Anon Student Id', 'Step Name'], keep='first')"
   ]
  },
  {
   "cell_type": "code",
   "execution_count": 194,
   "id": "a98e1141-53bf-4ad2-8f1e-db904b04673b",
   "metadata": {},
   "outputs": [
    {
     "data": {
      "text/html": [
       "<div>\n",
       "<style scoped>\n",
       "    .dataframe tbody tr th:only-of-type {\n",
       "        vertical-align: middle;\n",
       "    }\n",
       "\n",
       "    .dataframe tbody tr th {\n",
       "        vertical-align: top;\n",
       "    }\n",
       "\n",
       "    .dataframe thead th {\n",
       "        text-align: right;\n",
       "    }\n",
       "</style>\n",
       "<table border=\"1\" class=\"dataframe\">\n",
       "  <thead>\n",
       "    <tr style=\"text-align: right;\">\n",
       "      <th></th>\n",
       "      <th>Anon Student Id</th>\n",
       "      <th>Outcome</th>\n",
       "      <th>Level (Assignment).1</th>\n",
       "    </tr>\n",
       "  </thead>\n",
       "  <tbody>\n",
       "    <tr>\n",
       "      <th>143170</th>\n",
       "      <td>Stu_cf36f9f51f8834972297e21c29d10cec</td>\n",
       "      <td>NaN</td>\n",
       "      <td>[A1-C1234] Demo+Questionnaire+Pretest</td>\n",
       "    </tr>\n",
       "    <tr>\n",
       "      <th>143177</th>\n",
       "      <td>Stu_cf36f9f51f8834972297e21c29d10cec</td>\n",
       "      <td>CORRECT</td>\n",
       "      <td>[A1-C1234] Demo+Questionnaire+Pretest</td>\n",
       "    </tr>\n",
       "    <tr>\n",
       "      <th>143178</th>\n",
       "      <td>Stu_cf36f9f51f8834972297e21c29d10cec</td>\n",
       "      <td>CORRECT</td>\n",
       "      <td>[A1-C1234] Demo+Questionnaire+Pretest</td>\n",
       "    </tr>\n",
       "    <tr>\n",
       "      <th>143179</th>\n",
       "      <td>Stu_cf36f9f51f8834972297e21c29d10cec</td>\n",
       "      <td>CORRECT</td>\n",
       "      <td>[A1-C1234] Demo+Questionnaire+Pretest</td>\n",
       "    </tr>\n",
       "    <tr>\n",
       "      <th>143180</th>\n",
       "      <td>Stu_cf36f9f51f8834972297e21c29d10cec</td>\n",
       "      <td>CORRECT</td>\n",
       "      <td>[A1-C1234] Demo+Questionnaire+Pretest</td>\n",
       "    </tr>\n",
       "    <tr>\n",
       "      <th>...</th>\n",
       "      <td>...</td>\n",
       "      <td>...</td>\n",
       "      <td>...</td>\n",
       "    </tr>\n",
       "    <tr>\n",
       "      <th>81887</th>\n",
       "      <td>Stu_73d60636e05d53f687a02389a9635dbc</td>\n",
       "      <td>CORRECT</td>\n",
       "      <td>[A1-C5678-Abs] Demo+Questionnaire+Pretest</td>\n",
       "    </tr>\n",
       "    <tr>\n",
       "      <th>81888</th>\n",
       "      <td>Stu_73d60636e05d53f687a02389a9635dbc</td>\n",
       "      <td>CORRECT</td>\n",
       "      <td>[A1-C5678-Abs] Demo+Questionnaire+Pretest</td>\n",
       "    </tr>\n",
       "    <tr>\n",
       "      <th>81889</th>\n",
       "      <td>Stu_73d60636e05d53f687a02389a9635dbc</td>\n",
       "      <td>CORRECT</td>\n",
       "      <td>[A1-C5678-Abs] Demo+Questionnaire+Pretest</td>\n",
       "    </tr>\n",
       "    <tr>\n",
       "      <th>81890</th>\n",
       "      <td>Stu_73d60636e05d53f687a02389a9635dbc</td>\n",
       "      <td>CORRECT</td>\n",
       "      <td>[A1-C5678-Abs] Demo+Questionnaire+Pretest</td>\n",
       "    </tr>\n",
       "    <tr>\n",
       "      <th>81891</th>\n",
       "      <td>Stu_73d60636e05d53f687a02389a9635dbc</td>\n",
       "      <td>CORRECT</td>\n",
       "      <td>[A1-C5678-Abs] Demo+Questionnaire+Pretest</td>\n",
       "    </tr>\n",
       "  </tbody>\n",
       "</table>\n",
       "<p>4877 rows × 3 columns</p>\n",
       "</div>"
      ],
      "text/plain": [
       "                             Anon Student Id  Outcome  \\\n",
       "143170  Stu_cf36f9f51f8834972297e21c29d10cec      NaN   \n",
       "143177  Stu_cf36f9f51f8834972297e21c29d10cec  CORRECT   \n",
       "143178  Stu_cf36f9f51f8834972297e21c29d10cec  CORRECT   \n",
       "143179  Stu_cf36f9f51f8834972297e21c29d10cec  CORRECT   \n",
       "143180  Stu_cf36f9f51f8834972297e21c29d10cec  CORRECT   \n",
       "...                                      ...      ...   \n",
       "81887   Stu_73d60636e05d53f687a02389a9635dbc  CORRECT   \n",
       "81888   Stu_73d60636e05d53f687a02389a9635dbc  CORRECT   \n",
       "81889   Stu_73d60636e05d53f687a02389a9635dbc  CORRECT   \n",
       "81890   Stu_73d60636e05d53f687a02389a9635dbc  CORRECT   \n",
       "81891   Stu_73d60636e05d53f687a02389a9635dbc  CORRECT   \n",
       "\n",
       "                             Level (Assignment).1  \n",
       "143170      [A1-C1234] Demo+Questionnaire+Pretest  \n",
       "143177      [A1-C1234] Demo+Questionnaire+Pretest  \n",
       "143178      [A1-C1234] Demo+Questionnaire+Pretest  \n",
       "143179      [A1-C1234] Demo+Questionnaire+Pretest  \n",
       "143180      [A1-C1234] Demo+Questionnaire+Pretest  \n",
       "...                                           ...  \n",
       "81887   [A1-C5678-Abs] Demo+Questionnaire+Pretest  \n",
       "81888   [A1-C5678-Abs] Demo+Questionnaire+Pretest  \n",
       "81889   [A1-C5678-Abs] Demo+Questionnaire+Pretest  \n",
       "81890   [A1-C5678-Abs] Demo+Questionnaire+Pretest  \n",
       "81891   [A1-C5678-Abs] Demo+Questionnaire+Pretest  \n",
       "\n",
       "[4877 rows x 3 columns]"
      ]
     },
     "execution_count": 194,
     "metadata": {},
     "output_type": "execute_result"
    }
   ],
   "source": [
    "sub_df2[[\"Anon Student Id\", \"Outcome\", \"Level (Assignment).1\"]]"
   ]
  },
  {
   "cell_type": "code",
   "execution_count": 195,
   "id": "5878cf4a-ebae-4dae-a9ae-ccc0f1770db8",
   "metadata": {},
   "outputs": [],
   "source": [
    "pre_test_result = sub_df2.groupby('Anon Student Id')['Outcome'].apply(lambda x: (x == 'CORRECT').sum() / len(x)).reset_index()"
   ]
  },
  {
   "cell_type": "code",
   "execution_count": 196,
   "id": "cdc08981-25a6-444e-93e6-aa2ac9126b69",
   "metadata": {},
   "outputs": [
    {
     "data": {
      "text/html": [
       "<div>\n",
       "<style scoped>\n",
       "    .dataframe tbody tr th:only-of-type {\n",
       "        vertical-align: middle;\n",
       "    }\n",
       "\n",
       "    .dataframe tbody tr th {\n",
       "        vertical-align: top;\n",
       "    }\n",
       "\n",
       "    .dataframe thead th {\n",
       "        text-align: right;\n",
       "    }\n",
       "</style>\n",
       "<table border=\"1\" class=\"dataframe\">\n",
       "  <thead>\n",
       "    <tr style=\"text-align: right;\">\n",
       "      <th></th>\n",
       "      <th>Anon Student Id</th>\n",
       "      <th>Outcome</th>\n",
       "    </tr>\n",
       "  </thead>\n",
       "  <tbody>\n",
       "    <tr>\n",
       "      <th>0</th>\n",
       "      <td>Stu_00e7976d1e35e69629ea814e7663ae6b</td>\n",
       "      <td>0.648649</td>\n",
       "    </tr>\n",
       "    <tr>\n",
       "      <th>1</th>\n",
       "      <td>Stu_016763f61bc56c87add9b52b1e50a0d4</td>\n",
       "      <td>0.733333</td>\n",
       "    </tr>\n",
       "    <tr>\n",
       "      <th>2</th>\n",
       "      <td>Stu_02ed92b332024cc68a4c042697b1c57c</td>\n",
       "      <td>0.722222</td>\n",
       "    </tr>\n",
       "    <tr>\n",
       "      <th>3</th>\n",
       "      <td>Stu_04470351a151934525136e49188c55d4</td>\n",
       "      <td>0.826087</td>\n",
       "    </tr>\n",
       "    <tr>\n",
       "      <th>4</th>\n",
       "      <td>Stu_0579afc78056a2adba2b37cf5e722ee2</td>\n",
       "      <td>0.694444</td>\n",
       "    </tr>\n",
       "    <tr>\n",
       "      <th>...</th>\n",
       "      <td>...</td>\n",
       "      <td>...</td>\n",
       "    </tr>\n",
       "    <tr>\n",
       "      <th>151</th>\n",
       "      <td>Stu_fc36b2d283cdc551beba115eb0c9bae7</td>\n",
       "      <td>0.823529</td>\n",
       "    </tr>\n",
       "    <tr>\n",
       "      <th>152</th>\n",
       "      <td>Stu_fc60f8d23154679b4f7e60f35035ae04</td>\n",
       "      <td>0.648649</td>\n",
       "    </tr>\n",
       "    <tr>\n",
       "      <th>153</th>\n",
       "      <td>Stu_fcaa586c33e9b39901a2b9756e58d901</td>\n",
       "      <td>0.000000</td>\n",
       "    </tr>\n",
       "    <tr>\n",
       "      <th>154</th>\n",
       "      <td>Stu_fdbe5f13737914ee900c29aed87ec779</td>\n",
       "      <td>0.648649</td>\n",
       "    </tr>\n",
       "    <tr>\n",
       "      <th>155</th>\n",
       "      <td>Stu_ff396a25991104bcc3682e94e59d7b45</td>\n",
       "      <td>0.761905</td>\n",
       "    </tr>\n",
       "  </tbody>\n",
       "</table>\n",
       "<p>156 rows × 2 columns</p>\n",
       "</div>"
      ],
      "text/plain": [
       "                          Anon Student Id   Outcome\n",
       "0    Stu_00e7976d1e35e69629ea814e7663ae6b  0.648649\n",
       "1    Stu_016763f61bc56c87add9b52b1e50a0d4  0.733333\n",
       "2    Stu_02ed92b332024cc68a4c042697b1c57c  0.722222\n",
       "3    Stu_04470351a151934525136e49188c55d4  0.826087\n",
       "4    Stu_0579afc78056a2adba2b37cf5e722ee2  0.694444\n",
       "..                                    ...       ...\n",
       "151  Stu_fc36b2d283cdc551beba115eb0c9bae7  0.823529\n",
       "152  Stu_fc60f8d23154679b4f7e60f35035ae04  0.648649\n",
       "153  Stu_fcaa586c33e9b39901a2b9756e58d901  0.000000\n",
       "154  Stu_fdbe5f13737914ee900c29aed87ec779  0.648649\n",
       "155  Stu_ff396a25991104bcc3682e94e59d7b45  0.761905\n",
       "\n",
       "[156 rows x 2 columns]"
      ]
     },
     "execution_count": 196,
     "metadata": {},
     "output_type": "execute_result"
    }
   ],
   "source": [
    "pre_test_result"
   ]
  },
  {
   "cell_type": "code",
   "execution_count": 197,
   "id": "93ca501d-307c-4ccb-bb28-7d2039af262a",
   "metadata": {},
   "outputs": [],
   "source": [
    "pre_test_result.columns = ['anon_student_id', 'Pretest']\n",
    "post_test_result.columns = ['anon_student_id', 'Posttest']"
   ]
  },
  {
   "cell_type": "code",
   "execution_count": 198,
   "id": "dbaf1d9a-9402-4b8a-8788-06d666948b19",
   "metadata": {},
   "outputs": [],
   "source": [
    "merged_df = pd.merge(pre_test_result, post_test_result, on='anon_student_id')"
   ]
  },
  {
   "cell_type": "code",
   "execution_count": 199,
   "id": "aab6cad3-7911-4776-8811-1746d79c97da",
   "metadata": {},
   "outputs": [
    {
     "data": {
      "text/html": [
       "<div>\n",
       "<style scoped>\n",
       "    .dataframe tbody tr th:only-of-type {\n",
       "        vertical-align: middle;\n",
       "    }\n",
       "\n",
       "    .dataframe tbody tr th {\n",
       "        vertical-align: top;\n",
       "    }\n",
       "\n",
       "    .dataframe thead th {\n",
       "        text-align: right;\n",
       "    }\n",
       "</style>\n",
       "<table border=\"1\" class=\"dataframe\">\n",
       "  <thead>\n",
       "    <tr style=\"text-align: right;\">\n",
       "      <th></th>\n",
       "      <th>anon_student_id</th>\n",
       "      <th>Pretest</th>\n",
       "      <th>Posttest</th>\n",
       "    </tr>\n",
       "  </thead>\n",
       "  <tbody>\n",
       "    <tr>\n",
       "      <th>0</th>\n",
       "      <td>Stu_0579afc78056a2adba2b37cf5e722ee2</td>\n",
       "      <td>0.694444</td>\n",
       "      <td>0.000000</td>\n",
       "    </tr>\n",
       "    <tr>\n",
       "      <th>1</th>\n",
       "      <td>Stu_0579ea4e9dd6bcf83463cd55a419fd79</td>\n",
       "      <td>0.361111</td>\n",
       "      <td>0.000000</td>\n",
       "    </tr>\n",
       "    <tr>\n",
       "      <th>2</th>\n",
       "      <td>Stu_05bdce2051525a38318a7eb7f95eec84</td>\n",
       "      <td>0.612903</td>\n",
       "      <td>0.500000</td>\n",
       "    </tr>\n",
       "    <tr>\n",
       "      <th>3</th>\n",
       "      <td>Stu_10bc8ace2a69440f72b94a5eada1bdf2</td>\n",
       "      <td>0.852941</td>\n",
       "      <td>1.000000</td>\n",
       "    </tr>\n",
       "    <tr>\n",
       "      <th>4</th>\n",
       "      <td>Stu_10dd499fee6bd8bb2c1eea42a810318f</td>\n",
       "      <td>0.565217</td>\n",
       "      <td>0.600000</td>\n",
       "    </tr>\n",
       "    <tr>\n",
       "      <th>...</th>\n",
       "      <td>...</td>\n",
       "      <td>...</td>\n",
       "      <td>...</td>\n",
       "    </tr>\n",
       "    <tr>\n",
       "      <th>72</th>\n",
       "      <td>Stu_efb2f2b07386eb08bcb8f6c582b33bdb</td>\n",
       "      <td>0.647059</td>\n",
       "      <td>1.000000</td>\n",
       "    </tr>\n",
       "    <tr>\n",
       "      <th>73</th>\n",
       "      <td>Stu_f162a6c09609a9130b44f4b4ad3a1be0</td>\n",
       "      <td>0.588235</td>\n",
       "      <td>0.250000</td>\n",
       "    </tr>\n",
       "    <tr>\n",
       "      <th>74</th>\n",
       "      <td>Stu_f317a79acbeb084178eaf1810689d6d3</td>\n",
       "      <td>0.800000</td>\n",
       "      <td>0.777778</td>\n",
       "    </tr>\n",
       "    <tr>\n",
       "      <th>75</th>\n",
       "      <td>Stu_f438209db71f8e0e973ae55e8ac8c1a8</td>\n",
       "      <td>0.444444</td>\n",
       "      <td>0.000000</td>\n",
       "    </tr>\n",
       "    <tr>\n",
       "      <th>76</th>\n",
       "      <td>Stu_fc36b2d283cdc551beba115eb0c9bae7</td>\n",
       "      <td>0.823529</td>\n",
       "      <td>0.500000</td>\n",
       "    </tr>\n",
       "  </tbody>\n",
       "</table>\n",
       "<p>77 rows × 3 columns</p>\n",
       "</div>"
      ],
      "text/plain": [
       "                         anon_student_id   Pretest  Posttest\n",
       "0   Stu_0579afc78056a2adba2b37cf5e722ee2  0.694444  0.000000\n",
       "1   Stu_0579ea4e9dd6bcf83463cd55a419fd79  0.361111  0.000000\n",
       "2   Stu_05bdce2051525a38318a7eb7f95eec84  0.612903  0.500000\n",
       "3   Stu_10bc8ace2a69440f72b94a5eada1bdf2  0.852941  1.000000\n",
       "4   Stu_10dd499fee6bd8bb2c1eea42a810318f  0.565217  0.600000\n",
       "..                                   ...       ...       ...\n",
       "72  Stu_efb2f2b07386eb08bcb8f6c582b33bdb  0.647059  1.000000\n",
       "73  Stu_f162a6c09609a9130b44f4b4ad3a1be0  0.588235  0.250000\n",
       "74  Stu_f317a79acbeb084178eaf1810689d6d3  0.800000  0.777778\n",
       "75  Stu_f438209db71f8e0e973ae55e8ac8c1a8  0.444444  0.000000\n",
       "76  Stu_fc36b2d283cdc551beba115eb0c9bae7  0.823529  0.500000\n",
       "\n",
       "[77 rows x 3 columns]"
      ]
     },
     "execution_count": 199,
     "metadata": {},
     "output_type": "execute_result"
    }
   ],
   "source": [
    "merged_df"
   ]
  },
  {
   "cell_type": "code",
   "execution_count": 28,
   "id": "d9130cbf-8315-4750-af2f-a8eb65bdb971",
   "metadata": {},
   "outputs": [],
   "source": [
    "merged_df.to_csv(\"test_scores_3093.csv\")"
   ]
  },
  {
   "cell_type": "markdown",
   "id": "644e1b0f-c0d2-41c6-98c3-e05443e89930",
   "metadata": {
    "tags": []
   },
   "source": [
    "## 3151"
   ]
  },
  {
   "cell_type": "code",
   "execution_count": 29,
   "id": "3cdbc9c0-dcdf-42fd-88e3-8a23feb3b966",
   "metadata": {},
   "outputs": [],
   "source": [
    "file_path = \"ds3151_tx_2023_1108_192603/ds3151_tx_All_Data_5189_2020_0106_100459.txt\""
   ]
  },
  {
   "cell_type": "code",
   "execution_count": 30,
   "id": "955ee48e-ea74-4692-8eed-7aee64c82216",
   "metadata": {},
   "outputs": [
    {
     "name": "stderr",
     "output_type": "stream",
     "text": [
      "<ipython-input-30-3b579150a1dc>:1: DtypeWarning: Columns (7,45,46,47,48,49,50,58,59) have mixed types. Specify dtype option on import or set low_memory=False.\n",
      "  df = pd.read_csv(file_path, sep='\\t')\n"
     ]
    }
   ],
   "source": [
    "df = pd.read_csv(file_path, sep='\\t')"
   ]
  },
  {
   "cell_type": "code",
   "execution_count": 31,
   "id": "0f13df3f-6cfe-4e78-b29e-e2dc1303af6b",
   "metadata": {},
   "outputs": [
    {
     "data": {
      "text/plain": [
       "Index(['Row', 'Sample Name', 'Transaction Id', 'Anon Student Id', 'Session Id',\n",
       "       'Time', 'Time Zone', 'Duration (sec)', 'Student Response Type',\n",
       "       'Student Response Subtype', 'Tutor Response Type',\n",
       "       'Tutor Response Subtype', 'Level (Assignment)', 'Level (ProblemSet)',\n",
       "       'Problem Name', 'Problem View', 'Problem Start Time', 'Step Name',\n",
       "       'Attempt At Step', 'Is Last Attempt', 'Outcome', 'Selection',\n",
       "       'Selection.1', 'Selection.2', 'Action', 'Action.1', 'Input',\n",
       "       'Feedback Text', 'Feedback Classification', 'Help Level',\n",
       "       'Total Num Hints', 'Condition Name', 'Condition Type',\n",
       "       'Condition Name.1', 'Condition Type.1', 'KC (Default)',\n",
       "       'KC Category (Default)', 'KC (Default).1', 'KC Category (Default).1',\n",
       "       'KC (Default).2', 'KC Category (Default).2', 'KC (Default).3',\n",
       "       'KC Category (Default).3', 'KC (Default).4', 'KC Category (Default).4',\n",
       "       'KC (Default).5', 'KC Category (Default).5', 'KC (Default).6',\n",
       "       'KC Category (Default).6', 'KC (Default).7', 'KC Category (Default).7',\n",
       "       'KC (Single-KC)', 'KC Category (Single-KC)', 'KC (Unique-step)',\n",
       "       'KC Category (Unique-step)', 'School', 'Class',\n",
       "       'CF (Completion History)', 'CF (rules)', 'CF (step_id)',\n",
       "       'CF (tool_event_time)', 'CF (tutor_event_time)', 'CF (tutor_input)',\n",
       "       'Event Type'],\n",
       "      dtype='object')"
      ]
     },
     "execution_count": 31,
     "metadata": {},
     "output_type": "execute_result"
    }
   ],
   "source": [
    "df.columns"
   ]
  },
  {
   "cell_type": "code",
   "execution_count": 32,
   "id": "d14c928e-65e6-4cc8-b482-5f7d7046fe1c",
   "metadata": {},
   "outputs": [
    {
     "data": {
      "text/plain": [
       "array(['[A1-C1234] Demo+Questionnaire+Pretest', '[A2-C3478] Practice',\n",
       "       '[A3W1-C2468] Thinking About Math',\n",
       "       '[A3W2-C2468] Thinking About Math',\n",
       "       '[A3W3-C2468] Thinking About Math',\n",
       "       '[A3W4-C2468] Thinking About Math', '[A4-C12345678] Questionnaire',\n",
       "       '[A5-C1234] Posttest', '[A1-C5678] Demo+Questionnaire+Pretest',\n",
       "       '[A5-C5678] Posttest', '[A2-C1256] Practice',\n",
       "       '[A6-C12345678] Extra Practice',\n",
       "       '[A3W1-C1357] Thinking About Math',\n",
       "       '[A3W2-C1357] Thinking About Math',\n",
       "       '[A3W3-C1357] Thinking About Math',\n",
       "       '[A3W4-C1357] Thinking About Math',\n",
       "       '[A1-C5678-Abs] Demo+Questionnaire+Pretest', 'Default Assignment',\n",
       "       'Test'], dtype=object)"
      ]
     },
     "execution_count": 32,
     "metadata": {},
     "output_type": "execute_result"
    }
   ],
   "source": [
    "df[\"Level (Assignment)\"].unique()"
   ]
  },
  {
   "cell_type": "code",
   "execution_count": 33,
   "id": "74d09cdc-c5d2-4b8d-a2cb-8444f94ac8a7",
   "metadata": {},
   "outputs": [],
   "source": [
    "df_pre = df[df[\"Level (Assignment)\"].str.contains(\"Pretest\", na=False)]\n",
    "\n",
    "df_pre = df_pre.dropna(subset=['Outcome'])\n",
    "\n",
    "pre_test_result = df_pre.groupby('Anon Student Id')['Outcome'].apply(lambda x: (x == 'CORRECT').sum() / len(x) * 100).reset_index()\n",
    "\n",
    "pre_test_result.columns = ['Anon Student Id', 'Pretest']"
   ]
  },
  {
   "cell_type": "code",
   "execution_count": 34,
   "id": "d4cba7e1-e603-403e-9ce8-dae5118c01a5",
   "metadata": {},
   "outputs": [],
   "source": [
    "df_post = df[df[\"Level (Assignment)\"].str.contains(\"Posttest\", na=False)]\n",
    "\n",
    "df_post = df_post.dropna(subset=['Outcome'])\n",
    "\n",
    "post_test_result = df_post.groupby('Anon Student Id')['Outcome'].apply(lambda x: (x == 'CORRECT').sum() / len(x) * 100).reset_index()\n",
    "\n",
    "post_test_result.columns = ['Anon Student Id', 'Posttest']"
   ]
  },
  {
   "cell_type": "code",
   "execution_count": 35,
   "id": "94d541d0-0fa6-42ff-b3fb-bab6da8d279f",
   "metadata": {},
   "outputs": [],
   "source": [
    "merged_df = pd.merge(pre_test_result, post_test_result, on='Anon Student Id')"
   ]
  },
  {
   "cell_type": "code",
   "execution_count": 36,
   "id": "3582bf1a-cc12-426f-83b7-5519ddc1f2f5",
   "metadata": {},
   "outputs": [],
   "source": [
    "merged_df.to_csv(\"test_scores_3151.csv\")"
   ]
  },
  {
   "cell_type": "markdown",
   "id": "ecd31072-62ab-496e-8f7a-402fedfed6c5",
   "metadata": {
    "tags": []
   },
   "source": [
    "## Load 5165 results and compare"
   ]
  },
  {
   "cell_type": "code",
   "execution_count": 214,
   "id": "89a0a886-51f0-4886-8aa9-c9264bc5fa06",
   "metadata": {},
   "outputs": [],
   "source": [
    "ds5165 = pd.read_csv(\"ds5165_test_score_anon_student_id.txt\", sep=\"\\t\")"
   ]
  },
  {
   "cell_type": "code",
   "execution_count": 215,
   "id": "808e3653-fc42-49b5-b275-07faaf346bab",
   "metadata": {},
   "outputs": [
    {
     "data": {
      "text/html": [
       "<div>\n",
       "<style scoped>\n",
       "    .dataframe tbody tr th:only-of-type {\n",
       "        vertical-align: middle;\n",
       "    }\n",
       "\n",
       "    .dataframe tbody tr th {\n",
       "        vertical-align: top;\n",
       "    }\n",
       "\n",
       "    .dataframe thead th {\n",
       "        text-align: right;\n",
       "    }\n",
       "</style>\n",
       "<table border=\"1\" class=\"dataframe\">\n",
       "  <thead>\n",
       "    <tr style=\"text-align: right;\">\n",
       "      <th></th>\n",
       "      <th>anon_student_id</th>\n",
       "      <th>Pretest</th>\n",
       "      <th>Posttest</th>\n",
       "    </tr>\n",
       "  </thead>\n",
       "  <tbody>\n",
       "    <tr>\n",
       "      <th>0</th>\n",
       "      <td>Stu_0579ea4e9dd6bcf83463cd55a419fd79</td>\n",
       "      <td>0.13</td>\n",
       "      <td>0.37</td>\n",
       "    </tr>\n",
       "    <tr>\n",
       "      <th>1</th>\n",
       "      <td>Stu_8396fc5b4e985a61e5edada53783bd74</td>\n",
       "      <td>0.17</td>\n",
       "      <td>0.35</td>\n",
       "    </tr>\n",
       "    <tr>\n",
       "      <th>2</th>\n",
       "      <td>Stu_7068bc5930de9be55834a22844c0f110</td>\n",
       "      <td>0.41</td>\n",
       "      <td>0.61</td>\n",
       "    </tr>\n",
       "    <tr>\n",
       "      <th>3</th>\n",
       "      <td>Stu_b066e1f9c7d556ff07e8069d761d360a</td>\n",
       "      <td>0.39</td>\n",
       "      <td>0.44</td>\n",
       "    </tr>\n",
       "    <tr>\n",
       "      <th>4</th>\n",
       "      <td>Stu_c58ea5e445cad659c2f0ffbc73aef09d</td>\n",
       "      <td>0.62</td>\n",
       "      <td>0.63</td>\n",
       "    </tr>\n",
       "    <tr>\n",
       "      <th>...</th>\n",
       "      <td>...</td>\n",
       "      <td>...</td>\n",
       "      <td>...</td>\n",
       "    </tr>\n",
       "    <tr>\n",
       "      <th>124</th>\n",
       "      <td>Stu_57f1d9d289b4025ca4a219ed52cc5dc1</td>\n",
       "      <td>0.20</td>\n",
       "      <td>0.18</td>\n",
       "    </tr>\n",
       "    <tr>\n",
       "      <th>125</th>\n",
       "      <td>Stu_d7c0b5e120f7ab3126523953593f9e2b</td>\n",
       "      <td>0.51</td>\n",
       "      <td>0.30</td>\n",
       "    </tr>\n",
       "    <tr>\n",
       "      <th>126</th>\n",
       "      <td>Stu_130760ea9f6850f627a910c9839cde05</td>\n",
       "      <td>0.37</td>\n",
       "      <td>0.65</td>\n",
       "    </tr>\n",
       "    <tr>\n",
       "      <th>127</th>\n",
       "      <td>Stu_065c3c6616e42d1fddfbb9547974ba8c</td>\n",
       "      <td>0.53</td>\n",
       "      <td>0.30</td>\n",
       "    </tr>\n",
       "    <tr>\n",
       "      <th>128</th>\n",
       "      <td>Stu_fbbc645149e3513e98bce624a1922fd0</td>\n",
       "      <td>0.00</td>\n",
       "      <td>0.18</td>\n",
       "    </tr>\n",
       "  </tbody>\n",
       "</table>\n",
       "<p>129 rows × 3 columns</p>\n",
       "</div>"
      ],
      "text/plain": [
       "                          anon_student_id  Pretest  Posttest\n",
       "0    Stu_0579ea4e9dd6bcf83463cd55a419fd79     0.13      0.37\n",
       "1    Stu_8396fc5b4e985a61e5edada53783bd74     0.17      0.35\n",
       "2    Stu_7068bc5930de9be55834a22844c0f110     0.41      0.61\n",
       "3    Stu_b066e1f9c7d556ff07e8069d761d360a     0.39      0.44\n",
       "4    Stu_c58ea5e445cad659c2f0ffbc73aef09d     0.62      0.63\n",
       "..                                    ...      ...       ...\n",
       "124  Stu_57f1d9d289b4025ca4a219ed52cc5dc1     0.20      0.18\n",
       "125  Stu_d7c0b5e120f7ab3126523953593f9e2b     0.51      0.30\n",
       "126  Stu_130760ea9f6850f627a910c9839cde05     0.37      0.65\n",
       "127  Stu_065c3c6616e42d1fddfbb9547974ba8c     0.53      0.30\n",
       "128  Stu_fbbc645149e3513e98bce624a1922fd0     0.00      0.18\n",
       "\n",
       "[129 rows x 3 columns]"
      ]
     },
     "execution_count": 215,
     "metadata": {},
     "output_type": "execute_result"
    }
   ],
   "source": [
    "ds5165"
   ]
  },
  {
   "cell_type": "code",
   "execution_count": 216,
   "id": "0a305c9e-5781-4a00-b4c6-9fe819aea4a6",
   "metadata": {},
   "outputs": [],
   "source": [
    "merged_df.columns = [\"anon_student_id\", \"Pretest\", \"Posttest\"]\n",
    "compare_df = pd.merge(ds5165, merged_df, on='anon_student_id', suffixes=('_ds5165', '_other'))"
   ]
  },
  {
   "cell_type": "code",
   "execution_count": 217,
   "id": "acc109d4-05b6-4fdc-8bc8-c28758699583",
   "metadata": {},
   "outputs": [
    {
     "data": {
      "text/html": [
       "<div>\n",
       "<style scoped>\n",
       "    .dataframe tbody tr th:only-of-type {\n",
       "        vertical-align: middle;\n",
       "    }\n",
       "\n",
       "    .dataframe tbody tr th {\n",
       "        vertical-align: top;\n",
       "    }\n",
       "\n",
       "    .dataframe thead th {\n",
       "        text-align: right;\n",
       "    }\n",
       "</style>\n",
       "<table border=\"1\" class=\"dataframe\">\n",
       "  <thead>\n",
       "    <tr style=\"text-align: right;\">\n",
       "      <th></th>\n",
       "      <th>anon_student_id</th>\n",
       "      <th>Pretest_ds5165</th>\n",
       "      <th>Posttest_ds5165</th>\n",
       "      <th>Pretest_other</th>\n",
       "      <th>Posttest_other</th>\n",
       "    </tr>\n",
       "  </thead>\n",
       "  <tbody>\n",
       "    <tr>\n",
       "      <th>0</th>\n",
       "      <td>Stu_0579ea4e9dd6bcf83463cd55a419fd79</td>\n",
       "      <td>0.13</td>\n",
       "      <td>0.37</td>\n",
       "      <td>0.426230</td>\n",
       "      <td>0.611111</td>\n",
       "    </tr>\n",
       "    <tr>\n",
       "      <th>1</th>\n",
       "      <td>Stu_8396fc5b4e985a61e5edada53783bd74</td>\n",
       "      <td>0.17</td>\n",
       "      <td>0.35</td>\n",
       "      <td>0.583333</td>\n",
       "      <td>0.512821</td>\n",
       "    </tr>\n",
       "    <tr>\n",
       "      <th>2</th>\n",
       "      <td>Stu_7068bc5930de9be55834a22844c0f110</td>\n",
       "      <td>0.41</td>\n",
       "      <td>0.61</td>\n",
       "      <td>0.623188</td>\n",
       "      <td>0.756410</td>\n",
       "    </tr>\n",
       "    <tr>\n",
       "      <th>3</th>\n",
       "      <td>Stu_b066e1f9c7d556ff07e8069d761d360a</td>\n",
       "      <td>0.39</td>\n",
       "      <td>0.44</td>\n",
       "      <td>0.681159</td>\n",
       "      <td>0.641026</td>\n",
       "    </tr>\n",
       "    <tr>\n",
       "      <th>4</th>\n",
       "      <td>Stu_c58ea5e445cad659c2f0ffbc73aef09d</td>\n",
       "      <td>0.62</td>\n",
       "      <td>0.63</td>\n",
       "      <td>0.811594</td>\n",
       "      <td>0.807692</td>\n",
       "    </tr>\n",
       "    <tr>\n",
       "      <th>...</th>\n",
       "      <td>...</td>\n",
       "      <td>...</td>\n",
       "      <td>...</td>\n",
       "      <td>...</td>\n",
       "      <td>...</td>\n",
       "    </tr>\n",
       "    <tr>\n",
       "      <th>80</th>\n",
       "      <td>Stu_efb2f2b07386eb08bcb8f6c582b33bdb</td>\n",
       "      <td>0.33</td>\n",
       "      <td>0.50</td>\n",
       "      <td>0.660377</td>\n",
       "      <td>0.576923</td>\n",
       "    </tr>\n",
       "    <tr>\n",
       "      <th>81</th>\n",
       "      <td>Stu_50eea8da3837390995f473fad867b5d6</td>\n",
       "      <td>0.07</td>\n",
       "      <td>0.03</td>\n",
       "      <td>0.327869</td>\n",
       "      <td>0.240964</td>\n",
       "    </tr>\n",
       "    <tr>\n",
       "      <th>82</th>\n",
       "      <td>Stu_564469ab9f4c11ddebba12ad57dfa4f5</td>\n",
       "      <td>0.13</td>\n",
       "      <td>0.11</td>\n",
       "      <td>0.405797</td>\n",
       "      <td>0.229885</td>\n",
       "    </tr>\n",
       "    <tr>\n",
       "      <th>83</th>\n",
       "      <td>Stu_e69ed5f39e495f1d998a646d4e0f6ce2</td>\n",
       "      <td>0.37</td>\n",
       "      <td>0.78</td>\n",
       "      <td>0.794872</td>\n",
       "      <td>0.794872</td>\n",
       "    </tr>\n",
       "    <tr>\n",
       "      <th>84</th>\n",
       "      <td>Stu_b5ad806831258b809cd0bcd4a456de5d</td>\n",
       "      <td>0.22</td>\n",
       "      <td>0.56</td>\n",
       "      <td>0.536232</td>\n",
       "      <td>0.692308</td>\n",
       "    </tr>\n",
       "  </tbody>\n",
       "</table>\n",
       "<p>85 rows × 5 columns</p>\n",
       "</div>"
      ],
      "text/plain": [
       "                         anon_student_id  Pretest_ds5165  Posttest_ds5165  \\\n",
       "0   Stu_0579ea4e9dd6bcf83463cd55a419fd79            0.13             0.37   \n",
       "1   Stu_8396fc5b4e985a61e5edada53783bd74            0.17             0.35   \n",
       "2   Stu_7068bc5930de9be55834a22844c0f110            0.41             0.61   \n",
       "3   Stu_b066e1f9c7d556ff07e8069d761d360a            0.39             0.44   \n",
       "4   Stu_c58ea5e445cad659c2f0ffbc73aef09d            0.62             0.63   \n",
       "..                                   ...             ...              ...   \n",
       "80  Stu_efb2f2b07386eb08bcb8f6c582b33bdb            0.33             0.50   \n",
       "81  Stu_50eea8da3837390995f473fad867b5d6            0.07             0.03   \n",
       "82  Stu_564469ab9f4c11ddebba12ad57dfa4f5            0.13             0.11   \n",
       "83  Stu_e69ed5f39e495f1d998a646d4e0f6ce2            0.37             0.78   \n",
       "84  Stu_b5ad806831258b809cd0bcd4a456de5d            0.22             0.56   \n",
       "\n",
       "    Pretest_other  Posttest_other  \n",
       "0        0.426230        0.611111  \n",
       "1        0.583333        0.512821  \n",
       "2        0.623188        0.756410  \n",
       "3        0.681159        0.641026  \n",
       "4        0.811594        0.807692  \n",
       "..            ...             ...  \n",
       "80       0.660377        0.576923  \n",
       "81       0.327869        0.240964  \n",
       "82       0.405797        0.229885  \n",
       "83       0.794872        0.794872  \n",
       "84       0.536232        0.692308  \n",
       "\n",
       "[85 rows x 5 columns]"
      ]
     },
     "execution_count": 217,
     "metadata": {},
     "output_type": "execute_result"
    }
   ],
   "source": [
    "compare_df"
   ]
  },
  {
   "cell_type": "markdown",
   "id": "005bda50-8ab6-4b61-81dd-d820e610e939",
   "metadata": {},
   "source": [
    "## Load stu-step 3093"
   ]
  },
  {
   "cell_type": "code",
   "execution_count": 13,
   "id": "025c85e0-d490-4a89-a27c-aeb7b2eeeebe",
   "metadata": {},
   "outputs": [],
   "source": [
    "stu_3093 = pd.read_csv(\"ds3093_student_step_2023_1116_143747/ds3093_student_step_All_Data_5123_2022_1219_212523.txt\", sep=\"\\t\")"
   ]
  },
  {
   "cell_type": "code",
   "execution_count": 7,
   "id": "49d48362-a07c-451a-9b11-3cc05e93b5b9",
   "metadata": {},
   "outputs": [
    {
     "data": {
      "text/plain": [
       "array(['correct', 'incorrect', 'hint'], dtype=object)"
      ]
     },
     "execution_count": 7,
     "metadata": {},
     "output_type": "execute_result"
    }
   ],
   "source": [
    "stu_3093[\"First Attempt\"].unique()"
   ]
  },
  {
   "cell_type": "code",
   "execution_count": 8,
   "id": "37fda8d1-3991-4e17-ade3-168489f1357d",
   "metadata": {},
   "outputs": [
    {
     "data": {
      "text/plain": [
       "0        Assignment [A1-C5678] Demo+Questionnaire+Prete...\n",
       "1        Assignment [A1-C5678] Demo+Questionnaire+Prete...\n",
       "2        Assignment [A1-C5678] Demo+Questionnaire+Prete...\n",
       "3        Assignment [A1-C5678] Demo+Questionnaire+Prete...\n",
       "4        Assignment [A1-C5678] Demo+Questionnaire+Prete...\n",
       "                               ...                        \n",
       "96390    Assignment [A2-C1256] Practice, ProblemSet CT:...\n",
       "96391    Assignment [A2-C1256] Practice, ProblemSet CT:...\n",
       "96392    Assignment [A2-C1256] Practice, ProblemSet CT:...\n",
       "96393    Assignment [A2-C1256] Practice, ProblemSet CT:...\n",
       "96394    Assignment [A2-C1256] Practice, ProblemSet CT:...\n",
       "Name: Problem Hierarchy, Length: 96395, dtype: object"
      ]
     },
     "execution_count": 8,
     "metadata": {},
     "output_type": "execute_result"
    }
   ],
   "source": [
    "stu_3093[\"Problem Hierarchy\"]"
   ]
  },
  {
   "cell_type": "code",
   "execution_count": 225,
   "id": "868bf6c6-07cb-4b44-b834-31f2ff0c2a75",
   "metadata": {},
   "outputs": [],
   "source": [
    "pre_3093 = stu_3093[stu_3093[\"Problem Hierarchy\"].str.contains(\"Pretest\", na=False)]\n",
    "\n",
    "pre_test_result = pre_3093.groupby('Anon Student Id')['First Attempt'].apply(lambda x: (x == 'correct').sum() / len(x)).reset_index()\n",
    "\n",
    "pre_test_result.columns = ['anon_student_id', 'Pretest']"
   ]
  },
  {
   "cell_type": "code",
   "execution_count": 226,
   "id": "fa2d1a71-970c-4ddc-8006-1336c2a51730",
   "metadata": {},
   "outputs": [],
   "source": [
    "post_3093 = stu_3093[stu_3093[\"Problem Hierarchy\"].str.contains(\"Posttest\", na=False)]\n",
    "\n",
    "post_test_result = post_3093.groupby('Anon Student Id')['First Attempt'].apply(lambda x: (x == 'correct').sum() / len(x)).reset_index()\n",
    "\n",
    "post_test_result.columns = ['anon_student_id', 'Posttest']"
   ]
  },
  {
   "cell_type": "code",
   "execution_count": 227,
   "id": "47a135a4-d6e2-404e-9e20-4e8a7fefbc15",
   "metadata": {},
   "outputs": [],
   "source": [
    "merged_df = pd.merge(pre_test_result, post_test_result, on='anon_student_id')"
   ]
  },
  {
   "cell_type": "code",
   "execution_count": 236,
   "id": "0f37430e-716c-4cb8-9cdc-fd03f60863ad",
   "metadata": {},
   "outputs": [
    {
     "data": {
      "text/html": [
       "<div>\n",
       "<style scoped>\n",
       "    .dataframe tbody tr th:only-of-type {\n",
       "        vertical-align: middle;\n",
       "    }\n",
       "\n",
       "    .dataframe tbody tr th {\n",
       "        vertical-align: top;\n",
       "    }\n",
       "\n",
       "    .dataframe thead th {\n",
       "        text-align: right;\n",
       "    }\n",
       "</style>\n",
       "<table border=\"1\" class=\"dataframe\">\n",
       "  <thead>\n",
       "    <tr style=\"text-align: right;\">\n",
       "      <th></th>\n",
       "      <th>anon_student_id</th>\n",
       "      <th>Pretest</th>\n",
       "      <th>Posttest</th>\n",
       "    </tr>\n",
       "  </thead>\n",
       "  <tbody>\n",
       "    <tr>\n",
       "      <th>0</th>\n",
       "      <td>Stu_00e7976d1e35e69629ea814e7663ae6b</td>\n",
       "      <td>0.666667</td>\n",
       "      <td>0.730769</td>\n",
       "    </tr>\n",
       "    <tr>\n",
       "      <th>1</th>\n",
       "      <td>Stu_02ed92b332024cc68a4c042697b1c57c</td>\n",
       "      <td>0.737705</td>\n",
       "      <td>0.769231</td>\n",
       "    </tr>\n",
       "    <tr>\n",
       "      <th>2</th>\n",
       "      <td>Stu_0579afc78056a2adba2b37cf5e722ee2</td>\n",
       "      <td>0.770492</td>\n",
       "      <td>0.320513</td>\n",
       "    </tr>\n",
       "    <tr>\n",
       "      <th>3</th>\n",
       "      <td>Stu_0579ea4e9dd6bcf83463cd55a419fd79</td>\n",
       "      <td>0.426230</td>\n",
       "      <td>0.611111</td>\n",
       "    </tr>\n",
       "    <tr>\n",
       "      <th>4</th>\n",
       "      <td>Stu_05bdce2051525a38318a7eb7f95eec84</td>\n",
       "      <td>0.687500</td>\n",
       "      <td>0.615385</td>\n",
       "    </tr>\n",
       "    <tr>\n",
       "      <th>...</th>\n",
       "      <td>...</td>\n",
       "      <td>...</td>\n",
       "      <td>...</td>\n",
       "    </tr>\n",
       "    <tr>\n",
       "      <th>130</th>\n",
       "      <td>Stu_f82637cce1b998ecb55242e37073df40</td>\n",
       "      <td>0.768116</td>\n",
       "      <td>0.794872</td>\n",
       "    </tr>\n",
       "    <tr>\n",
       "      <th>131</th>\n",
       "      <td>Stu_f9e0865d46ddc2914dbd187c537dcacf</td>\n",
       "      <td>0.623188</td>\n",
       "      <td>0.435897</td>\n",
       "    </tr>\n",
       "    <tr>\n",
       "      <th>132</th>\n",
       "      <td>Stu_fc36b2d283cdc551beba115eb0c9bae7</td>\n",
       "      <td>0.836364</td>\n",
       "      <td>0.564103</td>\n",
       "    </tr>\n",
       "    <tr>\n",
       "      <th>133</th>\n",
       "      <td>Stu_fc60f8d23154679b4f7e60f35035ae04</td>\n",
       "      <td>0.637681</td>\n",
       "      <td>0.679487</td>\n",
       "    </tr>\n",
       "    <tr>\n",
       "      <th>134</th>\n",
       "      <td>Stu_fdbe5f13737914ee900c29aed87ec779</td>\n",
       "      <td>0.681159</td>\n",
       "      <td>0.794872</td>\n",
       "    </tr>\n",
       "  </tbody>\n",
       "</table>\n",
       "<p>135 rows × 3 columns</p>\n",
       "</div>"
      ],
      "text/plain": [
       "                          anon_student_id   Pretest  Posttest\n",
       "0    Stu_00e7976d1e35e69629ea814e7663ae6b  0.666667  0.730769\n",
       "1    Stu_02ed92b332024cc68a4c042697b1c57c  0.737705  0.769231\n",
       "2    Stu_0579afc78056a2adba2b37cf5e722ee2  0.770492  0.320513\n",
       "3    Stu_0579ea4e9dd6bcf83463cd55a419fd79  0.426230  0.611111\n",
       "4    Stu_05bdce2051525a38318a7eb7f95eec84  0.687500  0.615385\n",
       "..                                    ...       ...       ...\n",
       "130  Stu_f82637cce1b998ecb55242e37073df40  0.768116  0.794872\n",
       "131  Stu_f9e0865d46ddc2914dbd187c537dcacf  0.623188  0.435897\n",
       "132  Stu_fc36b2d283cdc551beba115eb0c9bae7  0.836364  0.564103\n",
       "133  Stu_fc60f8d23154679b4f7e60f35035ae04  0.637681  0.679487\n",
       "134  Stu_fdbe5f13737914ee900c29aed87ec779  0.681159  0.794872\n",
       "\n",
       "[135 rows x 3 columns]"
      ]
     },
     "execution_count": 236,
     "metadata": {},
     "output_type": "execute_result"
    }
   ],
   "source": [
    "merged_df"
   ]
  },
  {
   "cell_type": "code",
   "execution_count": 235,
   "id": "a293c13f-a3f4-435a-add8-2181fde178b8",
   "metadata": {},
   "outputs": [
    {
     "data": {
      "text/plain": [
       "Problem Hierarchy                                                           Problem Name                     \n",
       "Assignment [A1-C5678] Demo+Questionnaire+Pretest, ProblemSet Pretest (B)    prepost-B-2op-table-book             15\n",
       "                                                                            prepost-B-1op-table-skycraper         9\n",
       "                                                                            prepost-B-W8-27show                   8\n",
       "                                                                            prepost-B-E7-11account                7\n",
       "                                                                            prepost-B-W7-30bracelet               7\n",
       "Assignment [A1-C5678] Demo+Questionnaire+Pretest, ProblemSet Questionnaire  questionnaire                         7\n",
       "Assignment [A1-C5678] Demo+Questionnaire+Pretest, ProblemSet Pretest (B)    prepost-B-1op-ntab-painting           2\n",
       "                                                                            prepost-B-2op-npar-ntab-taco          2\n",
       "                                                                            prepost-B-2op-par-ntab-invitation     2\n",
       "                                                                            pretest-intro                         1\n",
       "Assignment [A1-C5678] Demo+Questionnaire+Pretest, ProblemSet demo           demo-video                            1\n",
       "dtype: int64"
      ]
     },
     "execution_count": 235,
     "metadata": {},
     "output_type": "execute_result"
    }
   ],
   "source": [
    "pre_3093[pre_3093[\"Anon Student Id\"]==\"Stu_0579ea4e9dd6bcf83463cd55a419fd79\"][[\"Problem Hierarchy\", \"Problem Name\"]].value_counts()"
   ]
  },
  {
   "cell_type": "code",
   "execution_count": 229,
   "id": "07fd193f-b7d9-43d9-8a61-09ed7388cd2b",
   "metadata": {},
   "outputs": [
    {
     "data": {
      "text/plain": [
       "0.4262295081967213"
      ]
     },
     "execution_count": 229,
     "metadata": {},
     "output_type": "execute_result"
    }
   ],
   "source": [
    "26/(26+24+11)"
   ]
  },
  {
   "cell_type": "code",
   "execution_count": null,
   "id": "2293ff44-5654-456b-93f1-7019ea8f9daa",
   "metadata": {},
   "outputs": [],
   "source": []
  }
 ],
 "metadata": {
  "kernelspec": {
   "display_name": "Python 3",
   "language": "python",
   "name": "python3"
  },
  "language_info": {
   "codemirror_mode": {
    "name": "ipython",
    "version": 3
   },
   "file_extension": ".py",
   "mimetype": "text/x-python",
   "name": "python",
   "nbconvert_exporter": "python",
   "pygments_lexer": "ipython3",
   "version": "3.9.13"
  }
 },
 "nbformat": 4,
 "nbformat_minor": 5
}
