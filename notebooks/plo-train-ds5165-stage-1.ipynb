{
 "cells": [
  {
   "cell_type": "code",
   "execution_count": 1,
   "id": "a5ad74d3",
   "metadata": {
    "_cell_guid": "e5209c73-eb8f-453f-b15c-de25b1d3321c",
    "_uuid": "313653cb-914a-4f0b-a61d-92a6e09a438a",
    "collapsed": false,
    "execution": {
     "iopub.execute_input": "2023-10-25T05:34:18.345481Z",
     "iopub.status.busy": "2023-10-25T05:34:18.342946Z",
     "iopub.status.idle": "2023-10-25T05:34:21.719164Z",
     "shell.execute_reply": "2023-10-25T05:34:21.717170Z"
    },
    "jupyter": {
     "outputs_hidden": false
    },
    "papermill": {
     "duration": 3.386804,
     "end_time": "2023-10-25T05:34:21.722031",
     "exception": false,
     "start_time": "2023-10-25T05:34:18.335227",
     "status": "completed"
    },
    "tags": []
   },
   "outputs": [
    {
     "name": "stderr",
     "output_type": "stream",
     "text": [
      "Loading required package: Matrix\n",
      "\n",
      "\n",
      "Attaching package: ‘dplyr’\n",
      "\n",
      "\n",
      "The following objects are masked from ‘package:stats’:\n",
      "\n",
      "    filter, lag\n",
      "\n",
      "\n",
      "The following objects are masked from ‘package:base’:\n",
      "\n",
      "    intersect, setdiff, setequal, union\n",
      "\n",
      "\n",
      "Loading required package: xts\n",
      "\n",
      "Loading required package: zoo\n",
      "\n",
      "\n",
      "Attaching package: ‘zoo’\n",
      "\n",
      "\n",
      "The following objects are masked from ‘package:base’:\n",
      "\n",
      "    as.Date, as.Date.numeric\n",
      "\n",
      "\n",
      "\n",
      "######################### Warning from 'xts' package ##########################\n",
      "#                                                                             #\n",
      "# The dplyr lag() function breaks how base R's lag() function is supposed to  #\n",
      "# work, which breaks lag(my_xts). Calls to lag(my_xts) that you type or       #\n",
      "# source() into this session won't work correctly.                            #\n",
      "#                                                                             #\n",
      "# Use stats::lag() to make sure you're not using dplyr::lag(), or you can add #\n",
      "# conflictRules('dplyr', exclude = 'lag') to your .Rprofile to stop           #\n",
      "# dplyr from breaking base R's lag() function.                                #\n",
      "#                                                                             #\n",
      "# Code in packages is not affected. It's protected by R's namespace mechanism #\n",
      "# Set `options(xts.warn_dplyr_breaks_lag = FALSE)` to suppress this warning.  #\n",
      "#                                                                             #\n",
      "###############################################################################\n",
      "\n",
      "\n",
      "Attaching package: ‘xts’\n",
      "\n",
      "\n",
      "The following objects are masked from ‘package:dplyr’:\n",
      "\n",
      "    first, last\n",
      "\n",
      "\n",
      "\n",
      "Attaching package: ‘PerformanceAnalytics’\n",
      "\n",
      "\n",
      "The following object is masked from ‘package:graphics’:\n",
      "\n",
      "    legend\n",
      "\n",
      "\n",
      "── \u001b[1mAttaching core tidyverse packages\u001b[22m ──────────────────────── tidyverse 2.0.0 ──\n",
      "\u001b[32m✔\u001b[39m \u001b[34mforcats  \u001b[39m 1.0.0     \u001b[32m✔\u001b[39m \u001b[34mstringr  \u001b[39m 1.5.0\n",
      "\u001b[32m✔\u001b[39m \u001b[34mggplot2  \u001b[39m 3.4.2     \u001b[32m✔\u001b[39m \u001b[34mtibble   \u001b[39m 3.2.1\n",
      "\u001b[32m✔\u001b[39m \u001b[34mlubridate\u001b[39m 1.9.2     \u001b[32m✔\u001b[39m \u001b[34mtidyr    \u001b[39m 1.3.0\n",
      "\u001b[32m✔\u001b[39m \u001b[34mpurrr    \u001b[39m 1.0.1     \n",
      "── \u001b[1mConflicts\u001b[22m ────────────────────────────────────────── tidyverse_conflicts() ──\n",
      "\u001b[31m✖\u001b[39m \u001b[34mtidyr\u001b[39m::\u001b[32mexpand()\u001b[39m    masks \u001b[34mMatrix\u001b[39m::expand()\n",
      "\u001b[31m✖\u001b[39m \u001b[34mtidyr\u001b[39m::\u001b[32mextract()\u001b[39m   masks \u001b[34mmagrittr\u001b[39m::extract()\n",
      "\u001b[31m✖\u001b[39m \u001b[34mdplyr\u001b[39m::\u001b[32mfilter()\u001b[39m    masks \u001b[34mstats\u001b[39m::filter()\n",
      "\u001b[31m✖\u001b[39m \u001b[34mxts\u001b[39m::\u001b[32mfirst()\u001b[39m       masks \u001b[34mdplyr\u001b[39m::first()\n",
      "\u001b[31m✖\u001b[39m \u001b[34mdplyr\u001b[39m::\u001b[32mlag()\u001b[39m       masks \u001b[34mstats\u001b[39m::lag()\n",
      "\u001b[31m✖\u001b[39m \u001b[34mxts\u001b[39m::\u001b[32mlast()\u001b[39m        masks \u001b[34mdplyr\u001b[39m::last()\n",
      "\u001b[31m✖\u001b[39m \u001b[34mtidyr\u001b[39m::\u001b[32mpack()\u001b[39m      masks \u001b[34mMatrix\u001b[39m::pack()\n",
      "\u001b[31m✖\u001b[39m \u001b[34mpurrr\u001b[39m::\u001b[32mset_names()\u001b[39m masks \u001b[34mmagrittr\u001b[39m::set_names()\n",
      "\u001b[31m✖\u001b[39m \u001b[34mtidyr\u001b[39m::\u001b[32munpack()\u001b[39m    masks \u001b[34mMatrix\u001b[39m::unpack()\n",
      "\u001b[36mℹ\u001b[39m Use the conflicted package (\u001b[3m\u001b[34m<http://conflicted.r-lib.org/>\u001b[39m\u001b[23m) to force all conflicts to become errors\n"
     ]
    }
   ],
   "source": [
    "library(magrittr)\n",
    "library(lme4)\n",
    "library(optimx)\n",
    "library(dplyr)\n",
    "library(readr)\n",
    "library(jtools)\n",
    "library(reticulate)\n",
    "library(PerformanceAnalytics)\n",
    "library(tidyverse)\n",
    "library(ggcorrplot)\n",
    "library(ggplot2)"
   ]
  },
  {
   "cell_type": "code",
   "execution_count": 2,
   "id": "a7997892",
   "metadata": {
    "execution": {
     "iopub.execute_input": "2023-10-25T05:34:21.768955Z",
     "iopub.status.busy": "2023-10-25T05:34:21.734863Z",
     "iopub.status.idle": "2023-10-25T05:34:22.663889Z",
     "shell.execute_reply": "2023-10-25T05:34:22.661174Z"
    },
    "papermill": {
     "duration": 0.939678,
     "end_time": "2023-10-25T05:34:22.667251",
     "exception": false,
     "start_time": "2023-10-25T05:34:21.727573",
     "status": "completed"
    },
    "tags": []
   },
   "outputs": [
    {
     "data": {
      "text/html": [
       "<style>\n",
       ".list-inline {list-style: none; margin:0; padding: 0}\n",
       ".list-inline>li {display: inline-block}\n",
       ".list-inline>li:not(:last-child)::after {content: \"\\00b7\"; padding: 0 .5ex}\n",
       "</style>\n",
       "<ol class=list-inline><li>'Row'</li><li>'Sample'</li><li>'Anon.Student.Id'</li><li>'Problem.Hierarchy'</li><li>'Problem.Name'</li><li>'Problem.View'</li><li>'Step.Name'</li><li>'Step.Start.Time'</li><li>'First.Transaction.Time'</li><li>'Correct.Transaction.Time'</li><li>'Step.End.Time'</li><li>'Step.Duration..sec.'</li><li>'Correct.Step.Duration..sec.'</li><li>'Error.Step.Duration..sec.'</li><li>'First.Attempt'</li><li>'Incorrects'</li><li>'Hints'</li><li>'Corrects'</li><li>'Condition'</li><li>'KC..Default.'</li><li>'Opportunity..Default.'</li><li>'Predicted.Error.Rate..Default.'</li><li>'KC..Single.KC.'</li><li>'Opportunity..Single.KC.'</li><li>'Predicted.Error.Rate..Single.KC.'</li><li>'KC..Unique.step.'</li><li>'Opportunity..Unique.step.'</li><li>'Predicted.Error.Rate..Unique.step.'</li></ol>\n"
      ],
      "text/latex": [
       "\\begin{enumerate*}\n",
       "\\item 'Row'\n",
       "\\item 'Sample'\n",
       "\\item 'Anon.Student.Id'\n",
       "\\item 'Problem.Hierarchy'\n",
       "\\item 'Problem.Name'\n",
       "\\item 'Problem.View'\n",
       "\\item 'Step.Name'\n",
       "\\item 'Step.Start.Time'\n",
       "\\item 'First.Transaction.Time'\n",
       "\\item 'Correct.Transaction.Time'\n",
       "\\item 'Step.End.Time'\n",
       "\\item 'Step.Duration..sec.'\n",
       "\\item 'Correct.Step.Duration..sec.'\n",
       "\\item 'Error.Step.Duration..sec.'\n",
       "\\item 'First.Attempt'\n",
       "\\item 'Incorrects'\n",
       "\\item 'Hints'\n",
       "\\item 'Corrects'\n",
       "\\item 'Condition'\n",
       "\\item 'KC..Default.'\n",
       "\\item 'Opportunity..Default.'\n",
       "\\item 'Predicted.Error.Rate..Default.'\n",
       "\\item 'KC..Single.KC.'\n",
       "\\item 'Opportunity..Single.KC.'\n",
       "\\item 'Predicted.Error.Rate..Single.KC.'\n",
       "\\item 'KC..Unique.step.'\n",
       "\\item 'Opportunity..Unique.step.'\n",
       "\\item 'Predicted.Error.Rate..Unique.step.'\n",
       "\\end{enumerate*}\n"
      ],
      "text/markdown": [
       "1. 'Row'\n",
       "2. 'Sample'\n",
       "3. 'Anon.Student.Id'\n",
       "4. 'Problem.Hierarchy'\n",
       "5. 'Problem.Name'\n",
       "6. 'Problem.View'\n",
       "7. 'Step.Name'\n",
       "8. 'Step.Start.Time'\n",
       "9. 'First.Transaction.Time'\n",
       "10. 'Correct.Transaction.Time'\n",
       "11. 'Step.End.Time'\n",
       "12. 'Step.Duration..sec.'\n",
       "13. 'Correct.Step.Duration..sec.'\n",
       "14. 'Error.Step.Duration..sec.'\n",
       "15. 'First.Attempt'\n",
       "16. 'Incorrects'\n",
       "17. 'Hints'\n",
       "18. 'Corrects'\n",
       "19. 'Condition'\n",
       "20. 'KC..Default.'\n",
       "21. 'Opportunity..Default.'\n",
       "22. 'Predicted.Error.Rate..Default.'\n",
       "23. 'KC..Single.KC.'\n",
       "24. 'Opportunity..Single.KC.'\n",
       "25. 'Predicted.Error.Rate..Single.KC.'\n",
       "26. 'KC..Unique.step.'\n",
       "27. 'Opportunity..Unique.step.'\n",
       "28. 'Predicted.Error.Rate..Unique.step.'\n",
       "\n",
       "\n"
      ],
      "text/plain": [
       " [1] \"Row\"                                \"Sample\"                            \n",
       " [3] \"Anon.Student.Id\"                    \"Problem.Hierarchy\"                 \n",
       " [5] \"Problem.Name\"                       \"Problem.View\"                      \n",
       " [7] \"Step.Name\"                          \"Step.Start.Time\"                   \n",
       " [9] \"First.Transaction.Time\"             \"Correct.Transaction.Time\"          \n",
       "[11] \"Step.End.Time\"                      \"Step.Duration..sec.\"               \n",
       "[13] \"Correct.Step.Duration..sec.\"        \"Error.Step.Duration..sec.\"         \n",
       "[15] \"First.Attempt\"                      \"Incorrects\"                        \n",
       "[17] \"Hints\"                              \"Corrects\"                          \n",
       "[19] \"Condition\"                          \"KC..Default.\"                      \n",
       "[21] \"Opportunity..Default.\"              \"Predicted.Error.Rate..Default.\"    \n",
       "[23] \"KC..Single.KC.\"                     \"Opportunity..Single.KC.\"           \n",
       "[25] \"Predicted.Error.Rate..Single.KC.\"   \"KC..Unique.step.\"                  \n",
       "[27] \"Opportunity..Unique.step.\"          \"Predicted.Error.Rate..Unique.step.\""
      ]
     },
     "metadata": {},
     "output_type": "display_data"
    }
   ],
   "source": [
    "my_data <- read.delim(file = '/kaggle/input/predicting-learning-outcomes/ds5165_student_step_All_Data_7337_2022_0107_094330.txt')\n",
    "names(my_data)"
   ]
  },
  {
   "cell_type": "code",
   "execution_count": 3,
   "id": "8733213a",
   "metadata": {
    "execution": {
     "iopub.execute_input": "2023-10-25T05:34:22.682240Z",
     "iopub.status.busy": "2023-10-25T05:34:22.680484Z",
     "iopub.status.idle": "2023-10-25T05:34:22.827927Z",
     "shell.execute_reply": "2023-10-25T05:34:22.825903Z"
    },
    "papermill": {
     "duration": 0.158353,
     "end_time": "2023-10-25T05:34:22.831290",
     "exception": false,
     "start_time": "2023-10-25T05:34:22.672937",
     "status": "completed"
    },
    "tags": []
   },
   "outputs": [],
   "source": [
    "my_data <- my_data %>%\n",
    "  filter(Opportunity..Default. != \"\" & First.Attempt != \"\") %>%\n",
    "  group_by(KC..Default., Anon.Student.Id) %>%\n",
    "  arrange(First.Transaction.Time) %>%\n",
    "  mutate(Opportunity..Default.Processed = row_number()) %>%\n",
    "  ungroup()"
   ]
  },
  {
   "cell_type": "code",
   "execution_count": 4,
   "id": "5add6016",
   "metadata": {
    "execution": {
     "iopub.execute_input": "2023-10-25T05:34:22.846291Z",
     "iopub.status.busy": "2023-10-25T05:34:22.844525Z",
     "iopub.status.idle": "2023-10-25T05:34:23.253345Z",
     "shell.execute_reply": "2023-10-25T05:34:23.251297Z"
    },
    "papermill": {
     "duration": 0.420005,
     "end_time": "2023-10-25T05:34:23.256856",
     "exception": false,
     "start_time": "2023-10-25T05:34:22.836851",
     "status": "completed"
    },
    "tags": []
   },
   "outputs": [],
   "source": [
    "my_data <- my_data %>%\n",
    "  rename(\n",
    "    individual = Anon.Student.Id,\n",
    "    KC = KC..Default.,\n",
    "    opportunity = Opportunity..Default.Processed,\n",
    "    response = First.Attempt\n",
    "  ) %>%\n",
    "  arrange(individual, KC) %>%\n",
    "  group_by(individual, KC) %>%\n",
    "  mutate(\n",
    "    opportunity_reverse = max(opportunity) - opportunity\n",
    "  ) %>%\n",
    "  ungroup() %>%\n",
    "  mutate(\n",
    "    response = ifelse(response == \"correct\", 1, 0),\n",
    "    opportunity0 = opportunity - 1\n",
    "  ) %>%\n",
    "  filter(!(is.na(KC) | KC == \"\" | KC == \"0\" | KC == 0))"
   ]
  },
  {
   "cell_type": "code",
   "execution_count": 5,
   "id": "41813911",
   "metadata": {
    "execution": {
     "iopub.execute_input": "2023-10-25T05:34:23.271947Z",
     "iopub.status.busy": "2023-10-25T05:34:23.270062Z",
     "iopub.status.idle": "2023-10-25T05:34:23.303612Z",
     "shell.execute_reply": "2023-10-25T05:34:23.301466Z"
    },
    "papermill": {
     "duration": 0.044293,
     "end_time": "2023-10-25T05:34:23.306715",
     "exception": false,
     "start_time": "2023-10-25T05:34:23.262422",
     "status": "completed"
    },
    "tags": []
   },
   "outputs": [
    {
     "data": {
      "text/plain": [
       "   Min. 1st Qu.  Median    Mean 3rd Qu.    Max. \n",
       "   0.00    3.00    8.00   11.89   16.00   96.00 "
      ]
     },
     "metadata": {},
     "output_type": "display_data"
    },
    {
     "data": {
      "text/plain": [
       "   Min. 1st Qu.  Median    Mean 3rd Qu.    Max. \n",
       "   0.00    3.00    8.00   11.89   16.00   96.00 "
      ]
     },
     "metadata": {},
     "output_type": "display_data"
    }
   ],
   "source": [
    "summary(my_data$opportunity0)\n",
    "summary(my_data$opportunity_reverse)"
   ]
  },
  {
   "cell_type": "code",
   "execution_count": 6,
   "id": "de3f1930",
   "metadata": {
    "execution": {
     "iopub.execute_input": "2023-10-25T05:34:23.322805Z",
     "iopub.status.busy": "2023-10-25T05:34:23.321006Z",
     "iopub.status.idle": "2023-10-25T05:34:23.336942Z",
     "shell.execute_reply": "2023-10-25T05:34:23.335077Z"
    },
    "papermill": {
     "duration": 0.02791,
     "end_time": "2023-10-25T05:34:23.340642",
     "exception": false,
     "start_time": "2023-10-25T05:34:23.312732",
     "status": "completed"
    },
    "tags": []
   },
   "outputs": [],
   "source": [
    "train_data = my_data"
   ]
  },
  {
   "cell_type": "code",
   "execution_count": 7,
   "id": "98486dec",
   "metadata": {
    "execution": {
     "iopub.execute_input": "2023-10-25T05:34:23.356288Z",
     "iopub.status.busy": "2023-10-25T05:34:23.354650Z",
     "iopub.status.idle": "2023-10-25T05:38:21.507625Z",
     "shell.execute_reply": "2023-10-25T05:38:21.505665Z"
    },
    "papermill": {
     "duration": 238.164765,
     "end_time": "2023-10-25T05:38:21.511433",
     "exception": false,
     "start_time": "2023-10-25T05:34:23.346668",
     "status": "completed"
    },
    "tags": []
   },
   "outputs": [
    {
     "data": {
      "text/plain": [
       "Time difference of 3.95 mins"
      ]
     },
     "metadata": {},
     "output_type": "display_data"
    }
   ],
   "source": [
    "# Fit the glmer model\n",
    "start.time <- Sys.time()\n",
    "model_iafm <- train_data %>%\n",
    "  glmer(response ~ opportunity0 + (opportunity0 | KC) + (opportunity0 | individual),\n",
    "        data = ., family = binomial(), nAGQ = 0)\n",
    "end.time <- Sys.time()\n",
    "\n",
    "# Print fitting time\n",
    "round(end.time - start.time, 2)\n",
    "\n",
    "# Save the model\n",
    "saveRDS(model_iafm, file = \"/kaggle/working/model_iafm_5165.rds\")"
   ]
  },
  {
   "cell_type": "code",
   "execution_count": 8,
   "id": "7f9eae33",
   "metadata": {
    "execution": {
     "iopub.execute_input": "2023-10-25T05:38:21.539133Z",
     "iopub.status.busy": "2023-10-25T05:38:21.537480Z",
     "iopub.status.idle": "2023-10-25T05:38:22.061540Z",
     "shell.execute_reply": "2023-10-25T05:38:22.059621Z"
    },
    "papermill": {
     "duration": 0.543617,
     "end_time": "2023-10-25T05:38:22.064068",
     "exception": false,
     "start_time": "2023-10-25T05:38:21.520451",
     "status": "completed"
    },
    "tags": []
   },
   "outputs": [
    {
     "data": {
      "text/plain": [
       "\u001b[4mMODEL INFO:\u001b[24m\n",
       "\u001b[3mObservations:\u001b[23m 32458\n",
       "\u001b[3mDependent Variable:\u001b[23m response\n",
       "\u001b[3mType:\u001b[23m Mixed effects generalized linear regression\n",
       "\u001b[3mError Distribution: \u001b[23mbinomial\n",
       "\u001b[3mLink function: \u001b[23mlogit \n",
       "\n",
       "\u001b[4mMODEL FIT:\u001b[24m\n",
       "\u001b[3mAIC\u001b[23m = 37774.13, \u001b[3mBIC\u001b[23m = 37841.23\n",
       "\u001b[3mPseudo-R² (fixed effects)\u001b[23m = 0.04\n",
       "\u001b[3mPseudo-R² (total)\u001b[23m = 0.56 \n",
       "\n",
       "\u001b[4mFIXED EFFECTS:\n",
       "\u001b[24m-------------------------------------------------\n",
       "                      Est.   S.E.   z val.      p\n",
       "------------------ ------- ------ -------- ------\n",
       "(Intercept)          -0.27   0.15    -1.79   0.07\n",
       "opportunity0          0.04   0.01     3.10   0.00\n",
       "-------------------------------------------------\n",
       "\u001b[4m\n",
       "RANDOM EFFECTS:\n",
       "\u001b[24m---------------------------------------\n",
       "   Group       Parameter     Std. Dev. \n",
       "------------ -------------- -----------\n",
       " individual   (Intercept)      1.04    \n",
       " individual   opportunity0     0.02    \n",
       "     KC       (Intercept)      0.89    \n",
       "     KC       opportunity0     0.08    \n",
       "---------------------------------------\n",
       "\u001b[4m\n",
       "Grouping variables:\n",
       "\u001b[24m------------------------------\n",
       "   Group      # groups   ICC  \n",
       "------------ ---------- ------\n",
       " individual     129      0.21 \n",
       "     KC          79      0.15 \n",
       "------------------------------"
      ]
     },
     "metadata": {},
     "output_type": "display_data"
    }
   ],
   "source": [
    "summ(model_iafm)"
   ]
  },
  {
   "cell_type": "code",
   "execution_count": 9,
   "id": "7dfd2790",
   "metadata": {
    "execution": {
     "iopub.execute_input": "2023-10-25T05:38:22.081007Z",
     "iopub.status.busy": "2023-10-25T05:38:22.079136Z",
     "iopub.status.idle": "2023-10-25T05:42:39.336837Z",
     "shell.execute_reply": "2023-10-25T05:42:39.334768Z"
    },
    "papermill": {
     "duration": 257.270693,
     "end_time": "2023-10-25T05:42:39.341131",
     "exception": false,
     "start_time": "2023-10-25T05:38:22.070438",
     "status": "completed"
    },
    "tags": []
   },
   "outputs": [
    {
     "data": {
      "text/plain": [
       "Time difference of 4.27 mins"
      ]
     },
     "metadata": {},
     "output_type": "display_data"
    }
   ],
   "source": [
    "# Fit the reverse glmer model\n",
    "start.time <- Sys.time()\n",
    "model_iafm_reverse = train_data %>%\n",
    "  glmer(response ~ opportunity_reverse + (opportunity_reverse|KC) + (opportunity_reverse|individual), \n",
    "        data=., family=binomial(), nAGQ = 0)\n",
    "end.time <- Sys.time()\n",
    "\n",
    "# Print fitting time\n",
    "round(end.time - start.time,2)\n",
    "\n",
    "# Save the model\n",
    "saveRDS(model_iafm_reverse, file = \"/kaggle/working/model_iafm_reverse_5165.rds\")"
   ]
  },
  {
   "cell_type": "code",
   "execution_count": 10,
   "id": "04043ca4",
   "metadata": {
    "execution": {
     "iopub.execute_input": "2023-10-25T05:42:39.373192Z",
     "iopub.status.busy": "2023-10-25T05:42:39.371434Z",
     "iopub.status.idle": "2023-10-25T05:42:39.773045Z",
     "shell.execute_reply": "2023-10-25T05:42:39.771185Z"
    },
    "papermill": {
     "duration": 0.424416,
     "end_time": "2023-10-25T05:42:39.775795",
     "exception": false,
     "start_time": "2023-10-25T05:42:39.351379",
     "status": "completed"
    },
    "tags": []
   },
   "outputs": [
    {
     "data": {
      "text/plain": [
       "\u001b[4mMODEL INFO:\u001b[24m\n",
       "\u001b[3mObservations:\u001b[23m 32458\n",
       "\u001b[3mDependent Variable:\u001b[23m response\n",
       "\u001b[3mType:\u001b[23m Mixed effects generalized linear regression\n",
       "\u001b[3mError Distribution: \u001b[23mbinomial\n",
       "\u001b[3mLink function: \u001b[23mlogit \n",
       "\n",
       "\u001b[4mMODEL FIT:\u001b[24m\n",
       "\u001b[3mAIC\u001b[23m = 37811.43, \u001b[3mBIC\u001b[23m = 37878.53\n",
       "\u001b[3mPseudo-R² (fixed effects)\u001b[23m = 0.09\n",
       "\u001b[3mPseudo-R² (total)\u001b[23m = 0.52 \n",
       "\n",
       "\u001b[4mFIXED EFFECTS:\n",
       "\u001b[24m--------------------------------------------------------\n",
       "                             Est.   S.E.   z val.      p\n",
       "------------------------- ------- ------ -------- ------\n",
       "(Intercept)                  0.10   0.16     0.62   0.53\n",
       "opportunity_reverse         -0.06   0.01    -5.57   0.00\n",
       "--------------------------------------------------------\n",
       "\u001b[4m\n",
       "RANDOM EFFECTS:\n",
       "\u001b[24m----------------------------------------------\n",
       "   Group           Parameter        Std. Dev. \n",
       "------------ --------------------- -----------\n",
       " individual       (Intercept)         0.94    \n",
       " individual   opportunity_reverse     0.02    \n",
       "     KC           (Intercept)         1.01    \n",
       "     KC       opportunity_reverse     0.06    \n",
       "----------------------------------------------\n",
       "\u001b[4m\n",
       "Grouping variables:\n",
       "\u001b[24m------------------------------\n",
       "   Group      # groups   ICC  \n",
       "------------ ---------- ------\n",
       " individual     129      0.17 \n",
       "     KC          79      0.20 \n",
       "------------------------------"
      ]
     },
     "metadata": {},
     "output_type": "display_data"
    }
   ],
   "source": [
    "summ(model_iafm_reverse)"
   ]
  }
 ],
 "metadata": {
  "environment": {
   "kernel": "ir",
   "name": "r-cpu.4-2.m107",
   "type": "gcloud",
   "uri": "gcr.io/deeplearning-platform-release/r-cpu.4-2:m107"
  },
  "kernelspec": {
   "display_name": "R",
   "language": "R",
   "name": "ir"
  },
  "language_info": {
   "codemirror_mode": "r",
   "file_extension": ".r",
   "mimetype": "text/x-r-source",
   "name": "R",
   "pygments_lexer": "r",
   "version": "4.0.5"
  },
  "papermill": {
   "default_parameters": {},
   "duration": 505.108755,
   "end_time": "2023-10-25T05:42:39.905287",
   "environment_variables": {},
   "exception": null,
   "input_path": "__notebook__.ipynb",
   "output_path": "__notebook__.ipynb",
   "parameters": {},
   "start_time": "2023-10-25T05:34:14.796532",
   "version": "2.4.0"
  }
 },
 "nbformat": 4,
 "nbformat_minor": 5
}
